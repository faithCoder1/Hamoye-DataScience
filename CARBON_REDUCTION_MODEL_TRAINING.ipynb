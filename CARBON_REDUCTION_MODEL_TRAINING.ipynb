{
  "nbformat": 4,
  "nbformat_minor": 0,
  "metadata": {
    "kernelspec": {
      "display_name": "Python 3",
      "language": "python",
      "name": "python3"
    },
    "language_info": {
      "codemirror_mode": {
        "name": "ipython",
        "version": 3
      },
      "file_extension": ".py",
      "mimetype": "text/x-python",
      "name": "python",
      "nbconvert_exporter": "python",
      "pygments_lexer": "ipython3",
      "version": "3.8.8"
    },
    "colab": {
      "name": "CARBON_REDUCTION_MODEL_TRAINING.ipynb",
      "provenance": [],
      "include_colab_link": true
    }
  },
  "cells": [
    {
      "cell_type": "markdown",
      "metadata": {
        "id": "view-in-github",
        "colab_type": "text"
      },
      "source": [
        "<a href=\"https://colab.research.google.com/github/faithCoder1/Hamoye-DataScience/blob/master/CARBON_REDUCTION_MODEL_TRAINING.ipynb\" target=\"_parent\"><img src=\"https://colab.research.google.com/assets/colab-badge.svg\" alt=\"Open In Colab\"/></a>"
      ]
    },
    {
      "cell_type": "code",
      "metadata": {
        "id": "U5OANK9wI3_y"
      },
      "source": [
        "import pandas as pd\n",
        "import numpy as np\n",
        "import matplotlib.pyplot as plt\n",
        "import seaborn as sns"
      ],
      "execution_count": null,
      "outputs": []
    },
    {
      "cell_type": "code",
      "metadata": {
        "id": "qtZEMI0rI4AS"
      },
      "source": [
        "data5 = pd.read_excel('20tstcar-2021-03-02.xlsx')"
      ],
      "execution_count": null,
      "outputs": []
    },
    {
      "cell_type": "code",
      "metadata": {
        "id": "13y3_UDBI4Ae",
        "outputId": "216d372a-939a-4b76-ac4b-b04114d7634d"
      },
      "source": [
        "data5.head()"
      ],
      "execution_count": null,
      "outputs": [
        {
          "data": {
            "text/html": [
              "<div>\n",
              "<style scoped>\n",
              "    .dataframe tbody tr th:only-of-type {\n",
              "        vertical-align: middle;\n",
              "    }\n",
              "\n",
              "    .dataframe tbody tr th {\n",
              "        vertical-align: top;\n",
              "    }\n",
              "\n",
              "    .dataframe thead th {\n",
              "        text-align: right;\n",
              "    }\n",
              "</style>\n",
              "<table border=\"1\" class=\"dataframe\">\n",
              "  <thead>\n",
              "    <tr style=\"text-align: right;\">\n",
              "      <th></th>\n",
              "      <th>Model Year</th>\n",
              "      <th>Vehicle Manufacturer Name</th>\n",
              "      <th>Veh Mfr Code</th>\n",
              "      <th>Represented Test Veh Make</th>\n",
              "      <th>Represented Test Veh Model</th>\n",
              "      <th>Test Vehicle ID</th>\n",
              "      <th>Test Veh Configuration #</th>\n",
              "      <th>Test Veh Displacement (L)</th>\n",
              "      <th>Actual Tested Testgroup</th>\n",
              "      <th>Vehicle Type</th>\n",
              "      <th>...</th>\n",
              "      <th>Set Coef A (lbf)</th>\n",
              "      <th>Set Coef B (lbf/mph)</th>\n",
              "      <th>Set Coef C (lbf/mph**2)</th>\n",
              "      <th>Aftertreatment Device Cd</th>\n",
              "      <th>Aftertreatment Device Desc</th>\n",
              "      <th>Police - Emergency Vehicle?</th>\n",
              "      <th>Averaging Group ID</th>\n",
              "      <th>Averaging Weighting Factor</th>\n",
              "      <th>Averaging Method Cd</th>\n",
              "      <th>Averging Method Desc</th>\n",
              "    </tr>\n",
              "  </thead>\n",
              "  <tbody>\n",
              "    <tr>\n",
              "      <th>0</th>\n",
              "      <td>2020</td>\n",
              "      <td>aston martin</td>\n",
              "      <td>ASX</td>\n",
              "      <td>Aston Martin</td>\n",
              "      <td>DB11</td>\n",
              "      <td>500TT5148</td>\n",
              "      <td>0</td>\n",
              "      <td>5.2</td>\n",
              "      <td>HASXV05.2AM5</td>\n",
              "      <td>Car</td>\n",
              "      <td>...</td>\n",
              "      <td>6.81</td>\n",
              "      <td>0.0807</td>\n",
              "      <td>0.0245</td>\n",
              "      <td>TWC</td>\n",
              "      <td>Three-way catalyst</td>\n",
              "      <td>N</td>\n",
              "      <td>NaN</td>\n",
              "      <td>NaN</td>\n",
              "      <td>N</td>\n",
              "      <td>No averaging</td>\n",
              "    </tr>\n",
              "    <tr>\n",
              "      <th>1</th>\n",
              "      <td>2020</td>\n",
              "      <td>aston martin</td>\n",
              "      <td>ASX</td>\n",
              "      <td>Aston Martin</td>\n",
              "      <td>DB11</td>\n",
              "      <td>500TT5148</td>\n",
              "      <td>0</td>\n",
              "      <td>5.2</td>\n",
              "      <td>HASXV05.2AM5</td>\n",
              "      <td>Car</td>\n",
              "      <td>...</td>\n",
              "      <td>6.81</td>\n",
              "      <td>0.0807</td>\n",
              "      <td>0.0245</td>\n",
              "      <td>TWC</td>\n",
              "      <td>Three-way catalyst</td>\n",
              "      <td>N</td>\n",
              "      <td>NaN</td>\n",
              "      <td>NaN</td>\n",
              "      <td>N</td>\n",
              "      <td>No averaging</td>\n",
              "    </tr>\n",
              "    <tr>\n",
              "      <th>2</th>\n",
              "      <td>2020</td>\n",
              "      <td>aston martin</td>\n",
              "      <td>ASX</td>\n",
              "      <td>Aston Martin</td>\n",
              "      <td>DB11 V8</td>\n",
              "      <td>562TT5348</td>\n",
              "      <td>0</td>\n",
              "      <td>4.0</td>\n",
              "      <td>JASXV04.0AES</td>\n",
              "      <td>Car</td>\n",
              "      <td>...</td>\n",
              "      <td>11.26</td>\n",
              "      <td>0.0919</td>\n",
              "      <td>0.0251</td>\n",
              "      <td>TWC</td>\n",
              "      <td>Three-way catalyst</td>\n",
              "      <td>N</td>\n",
              "      <td>NaN</td>\n",
              "      <td>NaN</td>\n",
              "      <td>N</td>\n",
              "      <td>No averaging</td>\n",
              "    </tr>\n",
              "    <tr>\n",
              "      <th>3</th>\n",
              "      <td>2020</td>\n",
              "      <td>aston martin</td>\n",
              "      <td>ASX</td>\n",
              "      <td>Aston Martin</td>\n",
              "      <td>DB11 V8</td>\n",
              "      <td>562TT5348</td>\n",
              "      <td>0</td>\n",
              "      <td>4.0</td>\n",
              "      <td>JASXV04.0AES</td>\n",
              "      <td>Car</td>\n",
              "      <td>...</td>\n",
              "      <td>11.26</td>\n",
              "      <td>0.0919</td>\n",
              "      <td>0.0251</td>\n",
              "      <td>TWC</td>\n",
              "      <td>Three-way catalyst</td>\n",
              "      <td>N</td>\n",
              "      <td>NaN</td>\n",
              "      <td>NaN</td>\n",
              "      <td>N</td>\n",
              "      <td>No averaging</td>\n",
              "    </tr>\n",
              "    <tr>\n",
              "      <th>4</th>\n",
              "      <td>2020</td>\n",
              "      <td>aston martin</td>\n",
              "      <td>ASX</td>\n",
              "      <td>Aston Martin</td>\n",
              "      <td>DBS</td>\n",
              "      <td>7002PT7056</td>\n",
              "      <td>0</td>\n",
              "      <td>5.2</td>\n",
              "      <td>KASXV05.2AM5</td>\n",
              "      <td>Car</td>\n",
              "      <td>...</td>\n",
              "      <td>6.81</td>\n",
              "      <td>0.0807</td>\n",
              "      <td>0.0245</td>\n",
              "      <td>TWC</td>\n",
              "      <td>Three-way catalyst</td>\n",
              "      <td>N</td>\n",
              "      <td>NaN</td>\n",
              "      <td>NaN</td>\n",
              "      <td>N</td>\n",
              "      <td>No averaging</td>\n",
              "    </tr>\n",
              "  </tbody>\n",
              "</table>\n",
              "<p>5 rows × 67 columns</p>\n",
              "</div>"
            ],
            "text/plain": [
              "   Model Year Vehicle Manufacturer Name Veh Mfr Code  \\\n",
              "0        2020              aston martin          ASX   \n",
              "1        2020              aston martin          ASX   \n",
              "2        2020              aston martin          ASX   \n",
              "3        2020              aston martin          ASX   \n",
              "4        2020              aston martin          ASX   \n",
              "\n",
              "  Represented Test Veh Make Represented Test Veh Model Test Vehicle ID  \\\n",
              "0              Aston Martin                       DB11       500TT5148   \n",
              "1              Aston Martin                       DB11       500TT5148   \n",
              "2              Aston Martin                    DB11 V8       562TT5348   \n",
              "3              Aston Martin                    DB11 V8       562TT5348   \n",
              "4              Aston Martin                        DBS      7002PT7056   \n",
              "\n",
              "   Test Veh Configuration #  Test Veh Displacement (L)  \\\n",
              "0                         0                        5.2   \n",
              "1                         0                        5.2   \n",
              "2                         0                        4.0   \n",
              "3                         0                        4.0   \n",
              "4                         0                        5.2   \n",
              "\n",
              "  Actual Tested Testgroup Vehicle Type  ...  Set Coef A (lbf)  \\\n",
              "0            HASXV05.2AM5          Car  ...              6.81   \n",
              "1            HASXV05.2AM5          Car  ...              6.81   \n",
              "2            JASXV04.0AES          Car  ...             11.26   \n",
              "3            JASXV04.0AES          Car  ...             11.26   \n",
              "4            KASXV05.2AM5          Car  ...              6.81   \n",
              "\n",
              "   Set Coef B (lbf/mph) Set Coef C (lbf/mph**2) Aftertreatment Device Cd  \\\n",
              "0                0.0807                  0.0245                      TWC   \n",
              "1                0.0807                  0.0245                      TWC   \n",
              "2                0.0919                  0.0251                      TWC   \n",
              "3                0.0919                  0.0251                      TWC   \n",
              "4                0.0807                  0.0245                      TWC   \n",
              "\n",
              "  Aftertreatment Device Desc  Police - Emergency Vehicle? Averaging Group ID  \\\n",
              "0         Three-way catalyst                            N                NaN   \n",
              "1         Three-way catalyst                            N                NaN   \n",
              "2         Three-way catalyst                            N                NaN   \n",
              "3         Three-way catalyst                            N                NaN   \n",
              "4         Three-way catalyst                            N                NaN   \n",
              "\n",
              "  Averaging Weighting Factor Averaging Method Cd  Averging Method Desc  \n",
              "0                        NaN                   N          No averaging  \n",
              "1                        NaN                   N          No averaging  \n",
              "2                        NaN                   N          No averaging  \n",
              "3                        NaN                   N          No averaging  \n",
              "4                        NaN                   N          No averaging  \n",
              "\n",
              "[5 rows x 67 columns]"
            ]
          },
          "execution_count": 18,
          "metadata": {},
          "output_type": "execute_result"
        }
      ]
    },
    {
      "cell_type": "code",
      "metadata": {
        "id": "Yy4s8wegI4Au"
      },
      "source": [
        ""
      ],
      "execution_count": null,
      "outputs": []
    },
    {
      "cell_type": "code",
      "metadata": {
        "id": "NyiA2DqHI4Aw"
      },
      "source": [
        "#DATA_DIRECTORY='C:\\\\Users\\\\AYERHAN MSUGHTER\\\\Downloads\\\\CO2 Emissions_Canada.csv'\n",
        "df=pd.read_csv('CO2 Emissions_Canada.csv')"
      ],
      "execution_count": null,
      "outputs": []
    },
    {
      "cell_type": "code",
      "metadata": {
        "id": "zy5OfG2FI4A0",
        "outputId": "59b70e6a-86a3-49d4-ff43-20ec4e5f7af4"
      },
      "source": [
        "df.duplicated().sum()"
      ],
      "execution_count": null,
      "outputs": [
        {
          "data": {
            "text/plain": [
              "1103"
            ]
          },
          "execution_count": 3,
          "metadata": {},
          "output_type": "execute_result"
        }
      ]
    },
    {
      "cell_type": "code",
      "metadata": {
        "id": "QVqp8LLPI4BB",
        "outputId": "2a7b62a3-715c-4a9c-cf4a-ecd511193357"
      },
      "source": [
        "#Drop Duplicated data\n",
        "df=df.drop_duplicates()\n",
        "df.shape"
      ],
      "execution_count": null,
      "outputs": [
        {
          "data": {
            "text/plain": [
              "(6282, 12)"
            ]
          },
          "execution_count": 4,
          "metadata": {},
          "output_type": "execute_result"
        }
      ]
    },
    {
      "cell_type": "code",
      "metadata": {
        "id": "5u03jZm5I4BI",
        "outputId": "9ff80c3b-cb14-40d5-c128-85cc541840f9"
      },
      "source": [
        "df.head(10)"
      ],
      "execution_count": null,
      "outputs": [
        {
          "data": {
            "text/html": [
              "<div>\n",
              "<style scoped>\n",
              "    .dataframe tbody tr th:only-of-type {\n",
              "        vertical-align: middle;\n",
              "    }\n",
              "\n",
              "    .dataframe tbody tr th {\n",
              "        vertical-align: top;\n",
              "    }\n",
              "\n",
              "    .dataframe thead th {\n",
              "        text-align: right;\n",
              "    }\n",
              "</style>\n",
              "<table border=\"1\" class=\"dataframe\">\n",
              "  <thead>\n",
              "    <tr style=\"text-align: right;\">\n",
              "      <th></th>\n",
              "      <th>Make</th>\n",
              "      <th>Model</th>\n",
              "      <th>Vehicle Class</th>\n",
              "      <th>Engine Size(L)</th>\n",
              "      <th>Cylinders</th>\n",
              "      <th>Transmission</th>\n",
              "      <th>Fuel Type</th>\n",
              "      <th>Fuel Consumption City (L/100 km)</th>\n",
              "      <th>Fuel Consumption Hwy (L/100 km)</th>\n",
              "      <th>Fuel Consumption Comb (L/100 km)</th>\n",
              "      <th>Fuel Consumption Comb (mpg)</th>\n",
              "      <th>CO2 Emissions(g/km)</th>\n",
              "    </tr>\n",
              "  </thead>\n",
              "  <tbody>\n",
              "    <tr>\n",
              "      <th>0</th>\n",
              "      <td>ACURA</td>\n",
              "      <td>ILX</td>\n",
              "      <td>COMPACT</td>\n",
              "      <td>2.0</td>\n",
              "      <td>4</td>\n",
              "      <td>AS5</td>\n",
              "      <td>Z</td>\n",
              "      <td>9.9</td>\n",
              "      <td>6.7</td>\n",
              "      <td>8.5</td>\n",
              "      <td>33</td>\n",
              "      <td>196</td>\n",
              "    </tr>\n",
              "    <tr>\n",
              "      <th>1</th>\n",
              "      <td>ACURA</td>\n",
              "      <td>ILX</td>\n",
              "      <td>COMPACT</td>\n",
              "      <td>2.4</td>\n",
              "      <td>4</td>\n",
              "      <td>M6</td>\n",
              "      <td>Z</td>\n",
              "      <td>11.2</td>\n",
              "      <td>7.7</td>\n",
              "      <td>9.6</td>\n",
              "      <td>29</td>\n",
              "      <td>221</td>\n",
              "    </tr>\n",
              "    <tr>\n",
              "      <th>2</th>\n",
              "      <td>ACURA</td>\n",
              "      <td>ILX HYBRID</td>\n",
              "      <td>COMPACT</td>\n",
              "      <td>1.5</td>\n",
              "      <td>4</td>\n",
              "      <td>AV7</td>\n",
              "      <td>Z</td>\n",
              "      <td>6.0</td>\n",
              "      <td>5.8</td>\n",
              "      <td>5.9</td>\n",
              "      <td>48</td>\n",
              "      <td>136</td>\n",
              "    </tr>\n",
              "    <tr>\n",
              "      <th>3</th>\n",
              "      <td>ACURA</td>\n",
              "      <td>MDX 4WD</td>\n",
              "      <td>SUV - SMALL</td>\n",
              "      <td>3.5</td>\n",
              "      <td>6</td>\n",
              "      <td>AS6</td>\n",
              "      <td>Z</td>\n",
              "      <td>12.7</td>\n",
              "      <td>9.1</td>\n",
              "      <td>11.1</td>\n",
              "      <td>25</td>\n",
              "      <td>255</td>\n",
              "    </tr>\n",
              "    <tr>\n",
              "      <th>4</th>\n",
              "      <td>ACURA</td>\n",
              "      <td>RDX AWD</td>\n",
              "      <td>SUV - SMALL</td>\n",
              "      <td>3.5</td>\n",
              "      <td>6</td>\n",
              "      <td>AS6</td>\n",
              "      <td>Z</td>\n",
              "      <td>12.1</td>\n",
              "      <td>8.7</td>\n",
              "      <td>10.6</td>\n",
              "      <td>27</td>\n",
              "      <td>244</td>\n",
              "    </tr>\n",
              "    <tr>\n",
              "      <th>5</th>\n",
              "      <td>ACURA</td>\n",
              "      <td>RLX</td>\n",
              "      <td>MID-SIZE</td>\n",
              "      <td>3.5</td>\n",
              "      <td>6</td>\n",
              "      <td>AS6</td>\n",
              "      <td>Z</td>\n",
              "      <td>11.9</td>\n",
              "      <td>7.7</td>\n",
              "      <td>10.0</td>\n",
              "      <td>28</td>\n",
              "      <td>230</td>\n",
              "    </tr>\n",
              "    <tr>\n",
              "      <th>6</th>\n",
              "      <td>ACURA</td>\n",
              "      <td>TL</td>\n",
              "      <td>MID-SIZE</td>\n",
              "      <td>3.5</td>\n",
              "      <td>6</td>\n",
              "      <td>AS6</td>\n",
              "      <td>Z</td>\n",
              "      <td>11.8</td>\n",
              "      <td>8.1</td>\n",
              "      <td>10.1</td>\n",
              "      <td>28</td>\n",
              "      <td>232</td>\n",
              "    </tr>\n",
              "    <tr>\n",
              "      <th>7</th>\n",
              "      <td>ACURA</td>\n",
              "      <td>TL AWD</td>\n",
              "      <td>MID-SIZE</td>\n",
              "      <td>3.7</td>\n",
              "      <td>6</td>\n",
              "      <td>AS6</td>\n",
              "      <td>Z</td>\n",
              "      <td>12.8</td>\n",
              "      <td>9.0</td>\n",
              "      <td>11.1</td>\n",
              "      <td>25</td>\n",
              "      <td>255</td>\n",
              "    </tr>\n",
              "    <tr>\n",
              "      <th>8</th>\n",
              "      <td>ACURA</td>\n",
              "      <td>TL AWD</td>\n",
              "      <td>MID-SIZE</td>\n",
              "      <td>3.7</td>\n",
              "      <td>6</td>\n",
              "      <td>M6</td>\n",
              "      <td>Z</td>\n",
              "      <td>13.4</td>\n",
              "      <td>9.5</td>\n",
              "      <td>11.6</td>\n",
              "      <td>24</td>\n",
              "      <td>267</td>\n",
              "    </tr>\n",
              "    <tr>\n",
              "      <th>9</th>\n",
              "      <td>ACURA</td>\n",
              "      <td>TSX</td>\n",
              "      <td>COMPACT</td>\n",
              "      <td>2.4</td>\n",
              "      <td>4</td>\n",
              "      <td>AS5</td>\n",
              "      <td>Z</td>\n",
              "      <td>10.6</td>\n",
              "      <td>7.5</td>\n",
              "      <td>9.2</td>\n",
              "      <td>31</td>\n",
              "      <td>212</td>\n",
              "    </tr>\n",
              "  </tbody>\n",
              "</table>\n",
              "</div>"
            ],
            "text/plain": [
              "    Make       Model Vehicle Class  Engine Size(L)  Cylinders Transmission  \\\n",
              "0  ACURA         ILX       COMPACT             2.0          4          AS5   \n",
              "1  ACURA         ILX       COMPACT             2.4          4           M6   \n",
              "2  ACURA  ILX HYBRID       COMPACT             1.5          4          AV7   \n",
              "3  ACURA     MDX 4WD   SUV - SMALL             3.5          6          AS6   \n",
              "4  ACURA     RDX AWD   SUV - SMALL             3.5          6          AS6   \n",
              "5  ACURA         RLX      MID-SIZE             3.5          6          AS6   \n",
              "6  ACURA          TL      MID-SIZE             3.5          6          AS6   \n",
              "7  ACURA      TL AWD      MID-SIZE             3.7          6          AS6   \n",
              "8  ACURA      TL AWD      MID-SIZE             3.7          6           M6   \n",
              "9  ACURA         TSX       COMPACT             2.4          4          AS5   \n",
              "\n",
              "  Fuel Type  Fuel Consumption City (L/100 km)  \\\n",
              "0         Z                               9.9   \n",
              "1         Z                              11.2   \n",
              "2         Z                               6.0   \n",
              "3         Z                              12.7   \n",
              "4         Z                              12.1   \n",
              "5         Z                              11.9   \n",
              "6         Z                              11.8   \n",
              "7         Z                              12.8   \n",
              "8         Z                              13.4   \n",
              "9         Z                              10.6   \n",
              "\n",
              "   Fuel Consumption Hwy (L/100 km)  Fuel Consumption Comb (L/100 km)  \\\n",
              "0                              6.7                               8.5   \n",
              "1                              7.7                               9.6   \n",
              "2                              5.8                               5.9   \n",
              "3                              9.1                              11.1   \n",
              "4                              8.7                              10.6   \n",
              "5                              7.7                              10.0   \n",
              "6                              8.1                              10.1   \n",
              "7                              9.0                              11.1   \n",
              "8                              9.5                              11.6   \n",
              "9                              7.5                               9.2   \n",
              "\n",
              "   Fuel Consumption Comb (mpg)  CO2 Emissions(g/km)  \n",
              "0                           33                  196  \n",
              "1                           29                  221  \n",
              "2                           48                  136  \n",
              "3                           25                  255  \n",
              "4                           27                  244  \n",
              "5                           28                  230  \n",
              "6                           28                  232  \n",
              "7                           25                  255  \n",
              "8                           24                  267  \n",
              "9                           31                  212  "
            ]
          },
          "execution_count": 5,
          "metadata": {},
          "output_type": "execute_result"
        }
      ]
    },
    {
      "cell_type": "code",
      "metadata": {
        "id": "MvKEBFRFI4BU",
        "outputId": "e82fa1e1-c3d0-45a3-c5fa-e89b95b4f7a3"
      },
      "source": [
        "model_labels = list(df['Model'].unique())\n",
        "cylinders_labels1 = list(df['Cylinders'].unique())\n",
        "cylinders_labels1.sort()\n",
        "cylinders_labels =[]\n",
        "for i in cylinders_labels1:\n",
        "    cylinders_labels.append(str(i))\n",
        "cylinders_labels \n",
        "cylinders_labels"
      ],
      "execution_count": null,
      "outputs": [
        {
          "data": {
            "text/plain": [
              "['3', '4', '5', '6', '8', '10', '12', '16']"
            ]
          },
          "execution_count": 6,
          "metadata": {},
          "output_type": "execute_result"
        }
      ]
    },
    {
      "cell_type": "code",
      "metadata": {
        "id": "WGt95BKBI4Bk",
        "outputId": "ea728174-cb2e-4c1e-8b33-3c312881ce5f"
      },
      "source": [
        "len(model_labels)"
      ],
      "execution_count": null,
      "outputs": [
        {
          "data": {
            "text/plain": [
              "2053"
            ]
          },
          "execution_count": 8,
          "metadata": {},
          "output_type": "execute_result"
        }
      ]
    },
    {
      "cell_type": "code",
      "metadata": {
        "id": "0T3xn-5bI4Bs",
        "outputId": "cf515678-4271-498b-d782-a3118e9b2aee"
      },
      "source": [
        "# Pie chart\n",
        "labels = cylinders_labels\n",
        "sizes =[]\n",
        "for i in list(cylinders_labels1):\n",
        "    sizes.append(df[df['Cylinders']==i]['Fuel Consumption City (L/100 km)'].mean())\n",
        "# only \"explode\" the 2nd slice (i.e. 'Hogs')\n",
        "colors = ['lightskyblue', 'red', 'cyan', 'green', 'gold','purple','brown','magenta']  \n",
        "plt.bar(height = sizes,  x=labels,color =colors\n",
        "     )\n",
        "plt.ylabel('Fuel Consumption City (L/100 km')\n",
        "plt.xlabel('Cylinders')\n",
        "# Equal aspect ratio ensures that pie is drawn as a circle\n",
        "plt.title('Number of cylinders against fuel consumption')\n",
        "plt.show()"
      ],
      "execution_count": null,
      "outputs": [
        {
          "data": {
            "image/png": "[encoded data removed]",
            "text/plain": [
              "<Figure size 432x288 with 1 Axes>"
            ]
          },
          "metadata": {
            "needs_background": "light"
          },
          "output_type": "display_data"
        }
      ]
    },
    {
      "cell_type": "code",
      "metadata": {
        "id": "2g7AJYVEI4B4",
        "outputId": "840076b9-e8c7-4b88-daba-62e0ec91f8e8"
      },
      "source": [
        "\n",
        "def drivetrain(b):\n",
        "    \n",
        "    for i in list(df['Model']):\n",
        "        \n",
        "        if b in i:\n",
        "            mean1= df[df['Model']==i]['Fuel Consumption Comb (L/100 km)'].mean()\n",
        "            \n",
        "            return mean1\n",
        "        else:\n",
        "            pass\n",
        "    \n",
        "drivetrain('FFV')            \n",
        "drivetrain_labels =[\"FFV\",'4WD','AWD','SWB','LWB','EWB']\n",
        "drive_train_measure =[]\n",
        "for i in drivetrain_labels:\n",
        "    drive_train_measure.append(drivetrain(i))\n",
        "drive_train_measure\n"
      ],
      "execution_count": null,
      "outputs": [
        {
          "data": {
            "text/plain": [
              "[12.45, 11.1, 10.475, 12.75, 12.75, 16.380000000000003]"
            ]
          },
          "execution_count": 100,
          "metadata": {},
          "output_type": "execute_result"
        }
      ]
    },
    {
      "cell_type": "markdown",
      "metadata": {
        "id": "VCpCD3WKI4B8"
      },
      "source": [
        "## We want to know the influence of drive train and drive base on co2 emission"
      ]
    },
    {
      "cell_type": "code",
      "metadata": {
        "id": "FaFBVaW6I4CM",
        "outputId": "4ee7eb09-5942-4d33-989d-d20760753626"
      },
      "source": [
        "\n",
        "def drivetrain2(b):\n",
        "    \n",
        "    for i in list(df['Model']):\n",
        "        \n",
        "        if b in i:\n",
        "            mean1= df[df['Model']==i]['CO2 Emissions(g/km)'].mean()\n",
        "            \n",
        "            return mean1\n",
        "        else:\n",
        "            pass\n",
        "drivetrain_labels =[\"FFV\",'4WD','AWD','SWB','LWB','EWB'] #types of drive train and base\n",
        "drive_train_measure2 =[]\n",
        "for i in drivetrain_labels:\n",
        "    drive_train_measure2.append(drivetrain2(i))\n",
        "drive_train_measure2\n",
        "\n"
      ],
      "execution_count": null,
      "outputs": [
        {
          "data": {
            "text/plain": [
              "[236.0, 255.0, 243.75, 293.0, 293.0, 379.6]"
            ]
          },
          "execution_count": 8,
          "metadata": {},
          "output_type": "execute_result"
        }
      ]
    },
    {
      "cell_type": "code",
      "metadata": {
        "id": "rTV--qIcI4CX"
      },
      "source": [
        "def drivetrain2(b):\n",
        "    \n",
        "    for i in list(df['Model']):\n",
        "        \n",
        "        if b in i:\n",
        "            mean1= df[df['Model']==i]['CO2 Emissions(g/km)'].mean()\n",
        "            \n",
        "            return mean1\n",
        "        else:\n",
        "            pass\n",
        "drivetrain_labels =[\"FFV\",'4WD','AWD','SWB','LWB','EWB'] #types of drive train and base\n",
        "drive_train_measure2 =[]\n",
        "for i in drivetrain_labels:\n",
        "    drive_train_measure2.append(drivetrain2(i))\n",
        "drive_train_measure2\n"
      ],
      "execution_count": null,
      "outputs": []
    },
    {
      "cell_type": "code",
      "metadata": {
        "id": "spgdglnZI4Ca",
        "outputId": "280ab189-f5e3-41c7-ad34-22958cf41d8a"
      },
      "source": [
        "data5['Drive System Description'].unique()"
      ],
      "execution_count": null,
      "outputs": [
        {
          "data": {
            "text/plain": [
              "array(['2-Wheel Drive, Rear', 'All Wheel Drive', '4-Wheel Drive',\n",
              "       '2-Wheel Drive, Front', 'Part-time 4-Wheel Drive'], dtype=object)"
            ]
          },
          "execution_count": 38,
          "metadata": {},
          "output_type": "execute_result"
        }
      ]
    },
    {
      "cell_type": "code",
      "metadata": {
        "id": "kX86CjUbI4Cd",
        "outputId": "f42a4bee-56f8-4dc9-c1cc-cd7f45d5ab9b"
      },
      "source": [
        "drivesystemdesc = ['2-Wheel Drive, Rear', 'All Wheel Drive', '4-Wheel Drive',\n",
        "       '2-Wheel Drive, Front', 'Part-time 4-Wheel Drive']\n",
        "drive_mode_measure2 =[]\n",
        "for i in list(drivesystemdesc):\n",
        "        drive_mode_measure2.append(data5[data5['Drive System Description']==i]['CO2 (g/mi)'].mean())\n",
        "            \n",
        "drive_mode_measure2\n",
        "# drivemode_labels =[\"FWD\",'4WD','AWD','RWD','P4WD'] #types of drive train and base\n",
        "\n",
        "# for i in drivetrain_labels:\n",
        "#     drive_mode_measure2.append(drivetrain2(i))\n",
        "# drive_mode_measure2\n",
        "\n",
        "# Pie chart\n",
        "labels = drivesystemdesc\n",
        "sizes =drive_mode_measure2\n",
        "# only \"explode\" the 2nd slice (i.e. 'Hogs')\n",
        "#colors = ['lightskyblue', 'red', 'blue', 'green', 'gold','purple'] \n",
        "fig1, ax1 = plt.subplots()\n",
        "ax1.pie(sizes,  labels=labels, autopct='%1.3f%%',\n",
        "        shadow=True, startangle=90,)#colors=colors\n",
        "# Equal aspect ratio ensures that pie is drawn as a circle\n",
        "ax1.axis('equal')  \n",
        "plt.legend(labels,loc='best')\n",
        "plt.title(\"Fuel consumption for drive train and wheel base\")\n",
        "plt.tight_layout()\n",
        "plt.show()"
      ],
      "execution_count": null,
      "outputs": [
        {
          "data": {
            "image/png": "[encoded data removed]",
            "text/plain": [
              "<Figure size 432x288 with 1 Axes>"
            ]
          },
          "metadata": {},
          "output_type": "display_data"
        }
      ]
    },
    {
      "cell_type": "code",
      "metadata": {
        "id": "WVYngLZqI4Cl",
        "outputId": "7b41f3a4-ff68-4ae2-b333-8eb07fff05da"
      },
      "source": [
        "data5['Transmission Overdrive Desc'].uniqueque()"
      ],
      "execution_count": null,
      "outputs": [
        {
          "data": {
            "text/plain": [
              "array(['Top gear ratio < 1', 'No gear ratio < 1'], dtype=object)"
            ]
          },
          "execution_count": 42,
          "metadata": {},
          "output_type": "execute_result"
        }
      ]
    },
    {
      "cell_type": "code",
      "metadata": {
        "id": "vk7g8-XlI4Cn",
        "outputId": "04883004-7462-42a9-c11d-ce1596f2e35f"
      },
      "source": [
        "transmissionsystem = ['Top gear ratio < 1', 'No gear ratio < 1']\n",
        "transmission_measure2 =[]\n",
        "for i in list(transmissionsystem):\n",
        "        transmission_measure2.append(data5[data5['Transmission Overdrive Desc']==i]['CO2 (g/mi)'].mean())\n",
        "            \n",
        "transmission_measure2\n",
        "# drivemode_labels =[\"FWD\",'4WD','AWD','RWD','P4WD'] #types of drive train and base\n",
        "\n",
        "# for i in drivetrain_labels:\n",
        "#     drive_mode_measure2.append(drivetrain2(i))\n",
        "# drive_mode_measure2\n",
        "\n",
        "# Pie chart\n",
        "labels = transmissionsystem\n",
        "sizes =transmission_measure2\n",
        "# only \"explode\" the 2nd slice (i.e. 'Hogs')\n",
        "#colors = ['lightskyblue', 'red', 'blue', 'green', 'gold','purple'] \n",
        "fig1, ax1 = plt.subplots()\n",
        "ax1.pie(sizes,  labels=labels, autopct='%1.3f%%',\n",
        "        shadow=True, startangle=90,)#colors=colors\n",
        "# Equal aspect ratio ensures that pie is drawn as a circle\n",
        "ax1.axis('equal')  \n",
        "plt.legend(labels,loc='best')\n",
        "plt.title(\"CO2 emission based on transmission system\")\n",
        "plt.tight_layout()\n",
        "plt.show()"
      ],
      "execution_count": null,
      "outputs": [
        {
          "data": {
            "image/png": "[encoded data removed]",
            "text/plain": [
              "<Figure size 432x288 with 1 Axes>"
            ]
          },
          "metadata": {},
          "output_type": "display_data"
        }
      ]
    },
    {
      "cell_type": "code",
      "metadata": {
        "id": "MlELP6RRI4Cr",
        "outputId": "70be750b-d1ee-475e-d850-241ae0019c58"
      },
      "source": [
        "data5['Tested Transmission Type'].unique()"
      ],
      "execution_count": null,
      "outputs": [
        {
          "data": {
            "text/plain": [
              "array(['Semi-Automatic', 'Manual', 'Automatic',\n",
              "       'Automated Manual- Selectable (e.g. Automated Manual with paddles)',\n",
              "       'Automated Manual', 'Continuously Variable',\n",
              "       'Selectable Continuously Variable (e.g. CVT with paddles)',\n",
              "       'Other'], dtype=object)"
            ]
          },
          "execution_count": 45,
          "metadata": {},
          "output_type": "execute_result"
        }
      ]
    },
    {
      "cell_type": "code",
      "metadata": {
        "id": "fh6UXMR5I4Ct",
        "outputId": "19a71ba9-4a58-4fc1-b001-0f1d828e7de8"
      },
      "source": [
        "data5"
      ],
      "execution_count": null,
      "outputs": [
        {
          "data": {
            "text/html": [
              "<div>\n",
              "<style scoped>\n",
              "    .dataframe tbody tr th:only-of-type {\n",
              "        vertical-align: middle;\n",
              "    }\n",
              "\n",
              "    .dataframe tbody tr th {\n",
              "        vertical-align: top;\n",
              "    }\n",
              "\n",
              "    .dataframe thead th {\n",
              "        text-align: right;\n",
              "    }\n",
              "</style>\n",
              "<table border=\"1\" class=\"dataframe\">\n",
              "  <thead>\n",
              "    <tr style=\"text-align: right;\">\n",
              "      <th></th>\n",
              "      <th>Model Year</th>\n",
              "      <th>Vehicle Manufacturer Name</th>\n",
              "      <th>Veh Mfr Code</th>\n",
              "      <th>Represented Test Veh Make</th>\n",
              "      <th>Represented Test Veh Model</th>\n",
              "      <th>Test Vehicle ID</th>\n",
              "      <th>Test Veh Configuration #</th>\n",
              "      <th>Test Veh Displacement (L)</th>\n",
              "      <th>Actual Tested Testgroup</th>\n",
              "      <th>Vehicle Type</th>\n",
              "      <th>...</th>\n",
              "      <th>Set Coef A (lbf)</th>\n",
              "      <th>Set Coef B (lbf/mph)</th>\n",
              "      <th>Set Coef C (lbf/mph**2)</th>\n",
              "      <th>Aftertreatment Device Cd</th>\n",
              "      <th>Aftertreatment Device Desc</th>\n",
              "      <th>Police - Emergency Vehicle?</th>\n",
              "      <th>Averaging Group ID</th>\n",
              "      <th>Averaging Weighting Factor</th>\n",
              "      <th>Averaging Method Cd</th>\n",
              "      <th>Averging Method Desc</th>\n",
              "    </tr>\n",
              "  </thead>\n",
              "  <tbody>\n",
              "    <tr>\n",
              "      <th>0</th>\n",
              "      <td>2020</td>\n",
              "      <td>aston martin</td>\n",
              "      <td>ASX</td>\n",
              "      <td>Aston Martin</td>\n",
              "      <td>DB11</td>\n",
              "      <td>500TT5148</td>\n",
              "      <td>0</td>\n",
              "      <td>5.200</td>\n",
              "      <td>HASXV05.2AM5</td>\n",
              "      <td>Car</td>\n",
              "      <td>...</td>\n",
              "      <td>6.810</td>\n",
              "      <td>0.08070</td>\n",
              "      <td>0.024500</td>\n",
              "      <td>TWC</td>\n",
              "      <td>Three-way catalyst</td>\n",
              "      <td>N</td>\n",
              "      <td>NaN</td>\n",
              "      <td>NaN</td>\n",
              "      <td>N</td>\n",
              "      <td>No averaging</td>\n",
              "    </tr>\n",
              "    <tr>\n",
              "      <th>1</th>\n",
              "      <td>2020</td>\n",
              "      <td>aston martin</td>\n",
              "      <td>ASX</td>\n",
              "      <td>Aston Martin</td>\n",
              "      <td>DB11</td>\n",
              "      <td>500TT5148</td>\n",
              "      <td>0</td>\n",
              "      <td>5.200</td>\n",
              "      <td>HASXV05.2AM5</td>\n",
              "      <td>Car</td>\n",
              "      <td>...</td>\n",
              "      <td>6.810</td>\n",
              "      <td>0.08070</td>\n",
              "      <td>0.024500</td>\n",
              "      <td>TWC</td>\n",
              "      <td>Three-way catalyst</td>\n",
              "      <td>N</td>\n",
              "      <td>NaN</td>\n",
              "      <td>NaN</td>\n",
              "      <td>N</td>\n",
              "      <td>No averaging</td>\n",
              "    </tr>\n",
              "    <tr>\n",
              "      <th>2</th>\n",
              "      <td>2020</td>\n",
              "      <td>aston martin</td>\n",
              "      <td>ASX</td>\n",
              "      <td>Aston Martin</td>\n",
              "      <td>DB11 V8</td>\n",
              "      <td>562TT5348</td>\n",
              "      <td>0</td>\n",
              "      <td>4.000</td>\n",
              "      <td>JASXV04.0AES</td>\n",
              "      <td>Car</td>\n",
              "      <td>...</td>\n",
              "      <td>11.260</td>\n",
              "      <td>0.09190</td>\n",
              "      <td>0.025100</td>\n",
              "      <td>TWC</td>\n",
              "      <td>Three-way catalyst</td>\n",
              "      <td>N</td>\n",
              "      <td>NaN</td>\n",
              "      <td>NaN</td>\n",
              "      <td>N</td>\n",
              "      <td>No averaging</td>\n",
              "    </tr>\n",
              "    <tr>\n",
              "      <th>3</th>\n",
              "      <td>2020</td>\n",
              "      <td>aston martin</td>\n",
              "      <td>ASX</td>\n",
              "      <td>Aston Martin</td>\n",
              "      <td>DB11 V8</td>\n",
              "      <td>562TT5348</td>\n",
              "      <td>0</td>\n",
              "      <td>4.000</td>\n",
              "      <td>JASXV04.0AES</td>\n",
              "      <td>Car</td>\n",
              "      <td>...</td>\n",
              "      <td>11.260</td>\n",
              "      <td>0.09190</td>\n",
              "      <td>0.025100</td>\n",
              "      <td>TWC</td>\n",
              "      <td>Three-way catalyst</td>\n",
              "      <td>N</td>\n",
              "      <td>NaN</td>\n",
              "      <td>NaN</td>\n",
              "      <td>N</td>\n",
              "      <td>No averaging</td>\n",
              "    </tr>\n",
              "    <tr>\n",
              "      <th>4</th>\n",
              "      <td>2020</td>\n",
              "      <td>aston martin</td>\n",
              "      <td>ASX</td>\n",
              "      <td>Aston Martin</td>\n",
              "      <td>DBS</td>\n",
              "      <td>7002PT7056</td>\n",
              "      <td>0</td>\n",
              "      <td>5.200</td>\n",
              "      <td>KASXV05.2AM5</td>\n",
              "      <td>Car</td>\n",
              "      <td>...</td>\n",
              "      <td>6.810</td>\n",
              "      <td>0.08070</td>\n",
              "      <td>0.024500</td>\n",
              "      <td>TWC</td>\n",
              "      <td>Three-way catalyst</td>\n",
              "      <td>N</td>\n",
              "      <td>NaN</td>\n",
              "      <td>NaN</td>\n",
              "      <td>N</td>\n",
              "      <td>No averaging</td>\n",
              "    </tr>\n",
              "    <tr>\n",
              "      <th>...</th>\n",
              "      <td>...</td>\n",
              "      <td>...</td>\n",
              "      <td>...</td>\n",
              "      <td>...</td>\n",
              "      <td>...</td>\n",
              "      <td>...</td>\n",
              "      <td>...</td>\n",
              "      <td>...</td>\n",
              "      <td>...</td>\n",
              "      <td>...</td>\n",
              "      <td>...</td>\n",
              "      <td>...</td>\n",
              "      <td>...</td>\n",
              "      <td>...</td>\n",
              "      <td>...</td>\n",
              "      <td>...</td>\n",
              "      <td>...</td>\n",
              "      <td>...</td>\n",
              "      <td>...</td>\n",
              "      <td>...</td>\n",
              "      <td>...</td>\n",
              "    </tr>\n",
              "    <tr>\n",
              "      <th>4445</th>\n",
              "      <td>2020</td>\n",
              "      <td>Volvo</td>\n",
              "      <td>VVX</td>\n",
              "      <td>Volvo</td>\n",
              "      <td>XC90 T6 AWD</td>\n",
              "      <td>202020</td>\n",
              "      <td>0</td>\n",
              "      <td>1.969</td>\n",
              "      <td>LVVXJ02.0S30</td>\n",
              "      <td>Both</td>\n",
              "      <td>...</td>\n",
              "      <td>9.020</td>\n",
              "      <td>0.31351</td>\n",
              "      <td>0.023655</td>\n",
              "      <td>TWC</td>\n",
              "      <td>Three-way catalyst</td>\n",
              "      <td>N</td>\n",
              "      <td>NaN</td>\n",
              "      <td>NaN</td>\n",
              "      <td>N</td>\n",
              "      <td>No averaging</td>\n",
              "    </tr>\n",
              "    <tr>\n",
              "      <th>4446</th>\n",
              "      <td>2020</td>\n",
              "      <td>Volvo</td>\n",
              "      <td>VVX</td>\n",
              "      <td>Volvo</td>\n",
              "      <td>XC90 T8 AWD</td>\n",
              "      <td>202001</td>\n",
              "      <td>1</td>\n",
              "      <td>1.969</td>\n",
              "      <td>LVVXJ02.0P30</td>\n",
              "      <td>Both</td>\n",
              "      <td>...</td>\n",
              "      <td>-10.683</td>\n",
              "      <td>0.05236</td>\n",
              "      <td>0.026256</td>\n",
              "      <td>TWC</td>\n",
              "      <td>Three-way catalyst</td>\n",
              "      <td>N</td>\n",
              "      <td>NaN</td>\n",
              "      <td>NaN</td>\n",
              "      <td>N</td>\n",
              "      <td>No averaging</td>\n",
              "    </tr>\n",
              "    <tr>\n",
              "      <th>4447</th>\n",
              "      <td>2020</td>\n",
              "      <td>Volvo</td>\n",
              "      <td>VVX</td>\n",
              "      <td>Volvo</td>\n",
              "      <td>XC90 T8 AWD</td>\n",
              "      <td>202001</td>\n",
              "      <td>1</td>\n",
              "      <td>1.969</td>\n",
              "      <td>LVVXJ02.0P30</td>\n",
              "      <td>Both</td>\n",
              "      <td>...</td>\n",
              "      <td>-10.683</td>\n",
              "      <td>0.05236</td>\n",
              "      <td>0.026256</td>\n",
              "      <td>TWC</td>\n",
              "      <td>Three-way catalyst</td>\n",
              "      <td>N</td>\n",
              "      <td>NaN</td>\n",
              "      <td>NaN</td>\n",
              "      <td>N</td>\n",
              "      <td>No averaging</td>\n",
              "    </tr>\n",
              "    <tr>\n",
              "      <th>4448</th>\n",
              "      <td>2020</td>\n",
              "      <td>Volvo</td>\n",
              "      <td>VVX</td>\n",
              "      <td>Volvo</td>\n",
              "      <td>XC90 T8 AWD</td>\n",
              "      <td>202001</td>\n",
              "      <td>1</td>\n",
              "      <td>1.969</td>\n",
              "      <td>LVVXJ02.0P30</td>\n",
              "      <td>Both</td>\n",
              "      <td>...</td>\n",
              "      <td>-10.683</td>\n",
              "      <td>0.05236</td>\n",
              "      <td>0.026256</td>\n",
              "      <td>TWC</td>\n",
              "      <td>Three-way catalyst</td>\n",
              "      <td>N</td>\n",
              "      <td>NaN</td>\n",
              "      <td>NaN</td>\n",
              "      <td>N</td>\n",
              "      <td>No averaging</td>\n",
              "    </tr>\n",
              "    <tr>\n",
              "      <th>4449</th>\n",
              "      <td>2020</td>\n",
              "      <td>Volvo</td>\n",
              "      <td>VVX</td>\n",
              "      <td>Volvo</td>\n",
              "      <td>XC90 T8 AWD</td>\n",
              "      <td>202001</td>\n",
              "      <td>1</td>\n",
              "      <td>1.969</td>\n",
              "      <td>LVVXJ02.0P30</td>\n",
              "      <td>Both</td>\n",
              "      <td>...</td>\n",
              "      <td>-10.683</td>\n",
              "      <td>0.05236</td>\n",
              "      <td>0.026256</td>\n",
              "      <td>TWC</td>\n",
              "      <td>Three-way catalyst</td>\n",
              "      <td>N</td>\n",
              "      <td>NaN</td>\n",
              "      <td>NaN</td>\n",
              "      <td>N</td>\n",
              "      <td>No averaging</td>\n",
              "    </tr>\n",
              "  </tbody>\n",
              "</table>\n",
              "<p>4450 rows × 67 columns</p>\n",
              "</div>"
            ],
            "text/plain": [
              "      Model Year Vehicle Manufacturer Name Veh Mfr Code  \\\n",
              "0           2020              aston martin          ASX   \n",
              "1           2020              aston martin          ASX   \n",
              "2           2020              aston martin          ASX   \n",
              "3           2020              aston martin          ASX   \n",
              "4           2020              aston martin          ASX   \n",
              "...          ...                       ...          ...   \n",
              "4445        2020                     Volvo          VVX   \n",
              "4446        2020                     Volvo          VVX   \n",
              "4447        2020                     Volvo          VVX   \n",
              "4448        2020                     Volvo          VVX   \n",
              "4449        2020                     Volvo          VVX   \n",
              "\n",
              "     Represented Test Veh Make Represented Test Veh Model Test Vehicle ID  \\\n",
              "0                 Aston Martin                       DB11       500TT5148   \n",
              "1                 Aston Martin                       DB11       500TT5148   \n",
              "2                 Aston Martin                    DB11 V8       562TT5348   \n",
              "3                 Aston Martin                    DB11 V8       562TT5348   \n",
              "4                 Aston Martin                        DBS      7002PT7056   \n",
              "...                        ...                        ...             ...   \n",
              "4445                     Volvo                XC90 T6 AWD          202020   \n",
              "4446                     Volvo                XC90 T8 AWD          202001   \n",
              "4447                     Volvo                XC90 T8 AWD          202001   \n",
              "4448                     Volvo                XC90 T8 AWD          202001   \n",
              "4449                     Volvo                XC90 T8 AWD          202001   \n",
              "\n",
              "      Test Veh Configuration #  Test Veh Displacement (L)  \\\n",
              "0                            0                      5.200   \n",
              "1                            0                      5.200   \n",
              "2                            0                      4.000   \n",
              "3                            0                      4.000   \n",
              "4                            0                      5.200   \n",
              "...                        ...                        ...   \n",
              "4445                         0                      1.969   \n",
              "4446                         1                      1.969   \n",
              "4447                         1                      1.969   \n",
              "4448                         1                      1.969   \n",
              "4449                         1                      1.969   \n",
              "\n",
              "     Actual Tested Testgroup Vehicle Type  ...  Set Coef A (lbf)  \\\n",
              "0               HASXV05.2AM5          Car  ...             6.810   \n",
              "1               HASXV05.2AM5          Car  ...             6.810   \n",
              "2               JASXV04.0AES          Car  ...            11.260   \n",
              "3               JASXV04.0AES          Car  ...            11.260   \n",
              "4               KASXV05.2AM5          Car  ...             6.810   \n",
              "...                      ...          ...  ...               ...   \n",
              "4445            LVVXJ02.0S30         Both  ...             9.020   \n",
              "4446            LVVXJ02.0P30         Both  ...           -10.683   \n",
              "4447            LVVXJ02.0P30         Both  ...           -10.683   \n",
              "4448            LVVXJ02.0P30         Both  ...           -10.683   \n",
              "4449            LVVXJ02.0P30         Both  ...           -10.683   \n",
              "\n",
              "      Set Coef B (lbf/mph) Set Coef C (lbf/mph**2) Aftertreatment Device Cd  \\\n",
              "0                  0.08070                0.024500                      TWC   \n",
              "1                  0.08070                0.024500                      TWC   \n",
              "2                  0.09190                0.025100                      TWC   \n",
              "3                  0.09190                0.025100                      TWC   \n",
              "4                  0.08070                0.024500                      TWC   \n",
              "...                    ...                     ...                      ...   \n",
              "4445               0.31351                0.023655                      TWC   \n",
              "4446               0.05236                0.026256                      TWC   \n",
              "4447               0.05236                0.026256                      TWC   \n",
              "4448               0.05236                0.026256                      TWC   \n",
              "4449               0.05236                0.026256                      TWC   \n",
              "\n",
              "     Aftertreatment Device Desc  Police - Emergency Vehicle?  \\\n",
              "0            Three-way catalyst                            N   \n",
              "1            Three-way catalyst                            N   \n",
              "2            Three-way catalyst                            N   \n",
              "3            Three-way catalyst                            N   \n",
              "4            Three-way catalyst                            N   \n",
              "...                         ...                          ...   \n",
              "4445         Three-way catalyst                            N   \n",
              "4446         Three-way catalyst                            N   \n",
              "4447         Three-way catalyst                            N   \n",
              "4448         Three-way catalyst                            N   \n",
              "4449         Three-way catalyst                            N   \n",
              "\n",
              "     Averaging Group ID Averaging Weighting Factor Averaging Method Cd  \\\n",
              "0                   NaN                        NaN                   N   \n",
              "1                   NaN                        NaN                   N   \n",
              "2                   NaN                        NaN                   N   \n",
              "3                   NaN                        NaN                   N   \n",
              "4                   NaN                        NaN                   N   \n",
              "...                 ...                        ...                 ...   \n",
              "4445                NaN                        NaN                   N   \n",
              "4446                NaN                        NaN                   N   \n",
              "4447                NaN                        NaN                   N   \n",
              "4448                NaN                        NaN                   N   \n",
              "4449                NaN                        NaN                   N   \n",
              "\n",
              "      Averging Method Desc  \n",
              "0             No averaging  \n",
              "1             No averaging  \n",
              "2             No averaging  \n",
              "3             No averaging  \n",
              "4             No averaging  \n",
              "...                    ...  \n",
              "4445          No averaging  \n",
              "4446          No averaging  \n",
              "4447          No averaging  \n",
              "4448          No averaging  \n",
              "4449          No averaging  \n",
              "\n",
              "[4450 rows x 67 columns]"
            ]
          },
          "execution_count": 50,
          "metadata": {},
          "output_type": "execute_result"
        }
      ]
    },
    {
      "cell_type": "code",
      "metadata": {
        "id": "tYjPVwI1I4C4",
        "outputId": "e523c025-391c-4dfc-b411-da5fc7cab981"
      },
      "source": [
        "# Pie chart\n",
        "labels = drivetrain_labels\n",
        "sizes =drive_train_measure2\n",
        "# only \"explode\" the 2nd slice (i.e. 'Hogs')\n",
        "colors = ['lightskyblue', 'red', 'blue', 'green', 'gold','purple'] \n",
        "fig1, ax1 = plt.subplots()\n",
        "ax1.pie(sizes,  labels=labels, autopct='%1.3f%%',\n",
        "        shadow=True, startangle=90,colors=colors)\n",
        "# Equal aspect ratio ensures that pie is drawn as a circle\n",
        "ax1.axis('equal')  \n",
        "plt.legend(labels,loc='best')\n",
        "plt.title(\"Fuel consumption for drive train and wheel base\")\n",
        "plt.tight_layout()\n",
        "plt.show()"
      ],
      "execution_count": null,
      "outputs": [
        {
          "data": {
            "image/png": "[encoded data removed]",
            "text/plain": [
              "<Figure size 432x288 with 1 Axes>"
            ]
          },
          "metadata": {},
          "output_type": "display_data"
        }
      ]
    },
    {
      "cell_type": "code",
      "metadata": {
        "id": "kw-ZI0xEI4C7",
        "outputId": "2e33a9d3-9a6d-4215-c4aa-afa903ae032c"
      },
      "source": [
        "# Pie chart\n",
        "labels = drivetrain_labels\n",
        "sizes =drive_train_measure2\n",
        "# only \"explode\" the 2nd slice (i.e. 'Hogs')\n",
        "colors = ['magenta', 'red', 'orange', 'green', 'purple','brown'] \n",
        "fig1, ax1 = plt.subplots()\n",
        "ax1.pie(sizes,  labels=labels, autopct='%1.3f%%',\n",
        "        shadow=True, startangle=90,colors=colors)\n",
        "# Equal aspect ratio ensures that pie is drawn as a circle\n",
        "ax1.axis('equal')  \n",
        "plt.legend(labels,loc='best')\n",
        "plt.title(\"CO2 emission illustration for drive train and wheel base\")\n",
        "plt.tight_layout()\n",
        "plt.show()"
      ],
      "execution_count": null,
      "outputs": [
        {
          "data": {
            "image/png": "[encoded data removed]",
            "text/plain": [
              "<Figure size 432x288 with 1 Axes>"
            ]
          },
          "metadata": {},
          "output_type": "display_data"
        }
      ]
    },
    {
      "cell_type": "markdown",
      "metadata": {
        "id": "i97v_agiI4C9"
      },
      "source": [
        "We can see that Four wheel drive (4WD) vehicles emit more co2 than All wheel drive (AWD) vehicles. "
      ]
    },
    {
      "cell_type": "markdown",
      "metadata": {
        "id": "yxaMv8Z5I4C_"
      },
      "source": [
        "## We want to know which fuel has the highest co2 emission"
      ]
    },
    {
      "cell_type": "code",
      "metadata": {
        "id": "XXJ3YxDeI4DG",
        "outputId": "2fb68bb9-2568-4091-b5be-78a6e7754dc0"
      },
      "source": [
        "sns.set_style(\"whitegrid\")\n",
        "bar,ax = plt.subplots(figsize=(10,6))\n",
        "ax = sns.barplot(x=\"CO2 Emissions(g/km)\", y='Fuel Type',data = df )\n",
        "#ax.set_title(\"Pie chart approximation in Seaborn - Total Tip by Delivery Type\", fontsize=15)\n",
        "positions=[\"Z\",'D','X',\"E\",'N']\n",
        "labels=['premium gasoline','diesel','regular gasoline','ethanol (E85)','natural gas']\n",
        "ax.set_xlabel (\"CO2 Emissions(g/km)\",)\n",
        "\n",
        "for rect in ax.patches:\n",
        "    ax.text (rect.get_width(), rect.get_y() + rect.get_height() / 2,\"%.1f%%\"% rect.get_width(), weight='bold' )\n",
        "plt.title('Fuel type aganist CO2 emissions')\n",
        "plt.legend()"
      ],
      "execution_count": null,
      "outputs": [
        {
          "name": "stderr",
          "output_type": "stream",
          "text": [
            "No handles with labels found to put in legend.\n"
          ]
        },
        {
          "data": {
            "text/plain": [
              "<matplotlib.legend.Legend at 0x26045631eb0>"
            ]
          },
          "execution_count": 12,
          "metadata": {},
          "output_type": "execute_result"
        },
        {
          "data": {
            "image/png": "[encoded data removed]",
            "text/plain": [
              "<Figure size 720x432 with 1 Axes>"
            ]
          },
          "metadata": {},
          "output_type": "display_data"
        }
      ]
    },
    {
      "cell_type": "code",
      "metadata": {
        "id": "g2B5SkToI4DJ",
        "outputId": "5f7261aa-4f48-4909-9c02-ed6d226cd7e2"
      },
      "source": [
        "model_labels"
      ],
      "execution_count": null,
      "outputs": [
        {
          "data": {
            "text/plain": [
              "['ILX',\n",
              " 'ILX HYBRID',\n",
              " 'MDX 4WD',\n",
              " 'RDX AWD',\n",
              " 'RLX',\n",
              " 'TL',\n",
              " 'TL AWD',\n",
              " 'TSX',\n",
              " '4C',\n",
              " 'DB9',\n",
              " 'RAPIDE',\n",
              " 'V8 VANTAGE',\n",
              " 'V8 VANTAGE S',\n",
              " 'VANQUISH',\n",
              " 'A4',\n",
              " 'A4 QUATTRO',\n",
              " 'A5 CABRIOLET QUATTRO',\n",
              " 'A5 QUATTRO',\n",
              " 'A6 QUATTRO',\n",
              " 'A6 QUATTRO TDI (modified)',\n",
              " 'A7 QUATTRO',\n",
              " 'A7 QUATTRO TDI (modified)',\n",
              " 'A8',\n",
              " 'A8 TDI (modified)',\n",
              " 'A8L',\n",
              " 'A8L TDI (modified)',\n",
              " 'ALLROAD QUATTRO',\n",
              " 'Q5',\n",
              " 'Q5 TDI (modified)',\n",
              " 'Q5 HYBRID',\n",
              " 'Q7',\n",
              " 'Q7 TDI (modified)',\n",
              " 'R8',\n",
              " 'R8 SPYDER',\n",
              " 'RS 5',\n",
              " 'RS 5 CABRIOLET',\n",
              " 'RS 7',\n",
              " 'S4',\n",
              " 'S5',\n",
              " 'S5 CABRIOLET',\n",
              " 'S6',\n",
              " 'S7',\n",
              " 'S8',\n",
              " 'SQ5',\n",
              " 'TT COUPE QUATTRO',\n",
              " 'TT ROADSTER QUATTRO',\n",
              " 'TTS COUPE QUATTRO',\n",
              " 'TTS ROADSTER QUATTRO',\n",
              " 'CONTINENTAL GT',\n",
              " 'CONTINENTAL GTC',\n",
              " 'CONTINENTAL GT SPEED CONVERTIBLE',\n",
              " 'FLYING SPUR',\n",
              " 'MULSANNE',\n",
              " '320i',\n",
              " '320i xDRIVE',\n",
              " '328d xDRIVE',\n",
              " '328d xDRIVE TOURING',\n",
              " '328i',\n",
              " '328i xDRIVE',\n",
              " '328i xDRIVE GRAN TURISMO',\n",
              " '328i xDRIVE TOURING',\n",
              " '335i',\n",
              " '335i xDRIVE',\n",
              " '335i xDRIVE GRAN TURISMO',\n",
              " '428i COUPE',\n",
              " '428i xDRIVE COUPE',\n",
              " '435i COUPE',\n",
              " '435i xDRIVE COUPE',\n",
              " '528i',\n",
              " '528i xDRIVE',\n",
              " '535d xDRIVE',\n",
              " '535i xDRIVE',\n",
              " '535i xDRIVE GRAN TURISMO',\n",
              " '550i xDRIVE',\n",
              " '550i xDRIVE GRAN TURISMO',\n",
              " '640i xDRIVE GRAN COUPE',\n",
              " '650i xDRIVE CABRIOLET',\n",
              " '650i xDRIVE COUPE',\n",
              " '650i xDRIVE GRAN COUPE',\n",
              " '740Li xDRIVE',\n",
              " '750i xDRIVE',\n",
              " '750Li xDRIVE',\n",
              " '760Li',\n",
              " 'ACTIVEHYBRID 3',\n",
              " 'ACTIVEHYBRID 5',\n",
              " 'ACTIVEHYBRID 7L',\n",
              " 'ALPINA B7 xDRIVE LWB',\n",
              " 'ALPINA B7 xDRIVE SWB',\n",
              " 'M5',\n",
              " 'M6',\n",
              " 'M6 CABRIOLET',\n",
              " 'M6 GRAN COUPE',\n",
              " 'X1 xDRIVE28i',\n",
              " 'X1 xDRIVE35i',\n",
              " 'X3 xDRIVE28i',\n",
              " 'X3 xDRIVE35i',\n",
              " 'X5 xDRIVE35i',\n",
              " 'X5 xDRIVE50i',\n",
              " 'X6 M',\n",
              " 'X6 xDRIVE35i',\n",
              " 'X6 xDRIVE50i',\n",
              " 'Z4 sDRIVE28i',\n",
              " 'Z4 sDRIVE35i',\n",
              " 'Z4 sDRIVE35is',\n",
              " 'ENCLAVE',\n",
              " 'ENCLAVE AWD',\n",
              " 'ENCORE',\n",
              " 'ENCORE AWD',\n",
              " 'LACROSSE',\n",
              " 'LACROSSE AWD',\n",
              " 'LACROSSE eASSIST',\n",
              " 'REGAL',\n",
              " 'REGAL AWD',\n",
              " 'REGAL eASSIST',\n",
              " 'VERANO',\n",
              " 'ATS',\n",
              " 'ATS AWD',\n",
              " 'CTS COUPE',\n",
              " 'CTS COUPE AWD',\n",
              " 'CTS SEDAN',\n",
              " 'CTS SEDAN AWD',\n",
              " 'CTS SEDAN Vsport',\n",
              " 'CTS SPORT WAGON',\n",
              " 'CTS SPORT WAGON AWD',\n",
              " 'CTS-V COUPE',\n",
              " 'CTS-V SEDAN',\n",
              " 'CTS-V SPORT WAGON',\n",
              " 'ESCALADE AWD',\n",
              " 'ESCALADE ESV AWD',\n",
              " 'SRX',\n",
              " 'SRX AWD',\n",
              " 'XTS',\n",
              " 'XTS AWD',\n",
              " 'XTS Vsport AWD',\n",
              " 'CAMARO',\n",
              " 'CAMARO 2LS',\n",
              " 'CAMARO SS',\n",
              " 'CAMARO ZL1',\n",
              " 'CORVETTE',\n",
              " 'CRUZE',\n",
              " 'CRUZE DIESEL',\n",
              " 'CRUZE ECO',\n",
              " 'EQUINOX',\n",
              " 'EQUINOX AWD',\n",
              " 'EXPRESS 1500 CARGO',\n",
              " 'EXPRESS 1500 CARGO AWD',\n",
              " 'EXPRESS 1500 CARGO CONV',\n",
              " 'EXPRESS 1500 CARGO CONV AWD',\n",
              " 'EXPRESS 1500 PASSENGER',\n",
              " 'EXPRESS 1500 PASSENGER AWD',\n",
              " 'EXPRESS 2500 PASSENGER',\n",
              " 'EXPRESS 3500 PASSENGER',\n",
              " 'IMPALA',\n",
              " 'IMPALA ECO',\n",
              " 'MALIBU',\n",
              " 'ORLANDO',\n",
              " 'SILVERADO',\n",
              " 'SILVERADO 4WD',\n",
              " 'SONIC',\n",
              " 'SONIC RS',\n",
              " 'SONIC 5',\n",
              " 'SONIC 5 RS',\n",
              " 'SPARK',\n",
              " 'SUBURBAN',\n",
              " 'SUBURBAN 4WD',\n",
              " 'TAHOE',\n",
              " 'TAHOE 4WD',\n",
              " 'TRAVERSE',\n",
              " 'TRAVERSE AWD',\n",
              " 'TRAX',\n",
              " 'TRAX AWD',\n",
              " '300',\n",
              " '200 CONVERTIBLE',\n",
              " '200 CONVERTIBLE FFV',\n",
              " '200 SEDAN',\n",
              " '200 SEDAN FFV',\n",
              " '300 (MDS)',\n",
              " '300 AWD',\n",
              " '300 AWD (MDS)',\n",
              " '300 AWD FFV',\n",
              " '300 FFV',\n",
              " '300 SRT (MDS)',\n",
              " 'TOWN & COUNTRY FFV',\n",
              " 'AVENGER',\n",
              " 'AVENGER FFV',\n",
              " 'CHALLENGER',\n",
              " 'CHALLENGER (MDS)',\n",
              " 'CHALLENGER SRT',\n",
              " 'CHALLENGER SRT (MDS)',\n",
              " 'CHARGER',\n",
              " 'CHARGER (MDS)',\n",
              " 'CHARGER AWD',\n",
              " 'CHARGER AWD (MDS)',\n",
              " 'CHARGER AWD FFV',\n",
              " 'CHARGER FFV',\n",
              " 'CHARGER SRT (MDS)',\n",
              " 'DART',\n",
              " 'DART FFV',\n",
              " 'DART GT',\n",
              " 'DART TURBO AERO',\n",
              " 'DURANGO AWD (MDS)',\n",
              " 'DURANGO AWD FFV',\n",
              " 'GRAND CARAVAN FFV',\n",
              " 'JOURNEY',\n",
              " 'JOURNEY AWD',\n",
              " 'JOURNEY FFV',\n",
              " '500 ABARTH CABRIO',\n",
              " '500 ABARTH HATCHBACK',\n",
              " '500 CABRIO',\n",
              " '500 CABRIO TURBO',\n",
              " '500 HATCHBACK',\n",
              " '500 HATCHBACK TURBO',\n",
              " '500L TURBO',\n",
              " 'C-MAX HYBRID',\n",
              " 'E150 VAN FFV',\n",
              " 'E150 WAGON FFV',\n",
              " 'E350 WAGON',\n",
              " 'E350 WAGON FFV',\n",
              " 'EDGE',\n",
              " 'EDGE AWD',\n",
              " 'ESCAPE',\n",
              " 'ESCAPE AWD',\n",
              " 'EXPEDITION 4X4 FFV',\n",
              " 'EXPLORER',\n",
              " 'EXPLORER AWD',\n",
              " 'EXPLORER FFV',\n",
              " 'EXPLORER FFV AWD',\n",
              " 'F-150',\n",
              " 'F-150 4X4',\n",
              " 'F-150 FFV',\n",
              " 'F-150 FFV 4X4',\n",
              " 'F-150 RAPTOR 4X4',\n",
              " 'FIESTA',\n",
              " 'FIESTA SFE',\n",
              " 'FIESTA ST',\n",
              " 'FLEX',\n",
              " 'FLEX AWD',\n",
              " 'FLEX AWD (EcoBoost)',\n",
              " 'FOCUS',\n",
              " 'FOCUS FFV',\n",
              " 'FOCUS SFE FFV',\n",
              " 'FUSION',\n",
              " 'FUSION (Start/Stop)',\n",
              " 'FUSION AWD',\n",
              " 'FUSION HYBRID',\n",
              " 'MUSTANG',\n",
              " 'MUSTANG CONVERTIBLE',\n",
              " 'TAURUS',\n",
              " 'TAURUS AWD',\n",
              " 'TAURUS FFV',\n",
              " 'TAURUS FFV AWD',\n",
              " 'TRANSIT CONNECT',\n",
              " 'TRANSIT CONNECT TAXI',\n",
              " 'TRANSIT CONNECT WAGON',\n",
              " 'ACADIA',\n",
              " 'ACADIA AWD',\n",
              " 'SAVANA 1500 CARGO',\n",
              " 'SAVANA 1500 CARGO AWD',\n",
              " 'SAVANA 1500 CARGO CONV',\n",
              " 'SAVANA 1500 CARGO CONV AWD',\n",
              " 'SAVANA 1500 PASSENGER',\n",
              " 'SAVANA 1500 PASSENGER AWD',\n",
              " 'SAVANA 2500 PASSENGER',\n",
              " 'SAVANA 3500 PASSENGER',\n",
              " 'SIERRA',\n",
              " 'SIERRA 4WD',\n",
              " 'TERRAIN',\n",
              " 'TERRAIN AWD',\n",
              " 'YUKON',\n",
              " 'YUKON 4WD',\n",
              " 'YUKON DENALI AWD',\n",
              " 'YUKON DENALI XL AWD',\n",
              " 'YUKON XL',\n",
              " 'YUKON XL 4WD',\n",
              " 'ACCORD',\n",
              " 'ACCORD HYBRID',\n",
              " 'CIVIC',\n",
              " 'CROSSTOUR AWD',\n",
              " 'CR-V',\n",
              " 'CR-V AWD',\n",
              " 'CR-Z',\n",
              " 'FIT',\n",
              " 'ODYSSEY',\n",
              " 'PILOT',\n",
              " 'PILOT AWD',\n",
              " 'RIDGELINE AWD',\n",
              " 'ACCENT',\n",
              " 'ELANTRA GT',\n",
              " 'EQUUS',\n",
              " 'GENESIS',\n",
              " 'SANTA FE',\n",
              " 'SANTA FE 4WD',\n",
              " 'SANTA FE SPORT',\n",
              " 'SANTA FE SPORT 4WD',\n",
              " 'SONATA',\n",
              " 'SONATA HYBRID',\n",
              " 'SONATA HYBRID LIMITED',\n",
              " 'TUCSON',\n",
              " 'TUCSON 4WD',\n",
              " 'VELOSTER',\n",
              " 'VELOSTER TURBO',\n",
              " 'Q50',\n",
              " 'Q50 AWD',\n",
              " 'Q50 HYBRID',\n",
              " 'Q50 HYBRID AWD',\n",
              " 'Q60 AWD COUPE',\n",
              " 'Q60 CONVERTIBLE',\n",
              " 'Q60 COUPE',\n",
              " 'Q70',\n",
              " 'Q70 AWD',\n",
              " 'Q70 HYBRID',\n",
              " 'QX50 AWD',\n",
              " 'QX60',\n",
              " 'QX60 AWD',\n",
              " 'QX60 HYBRID AWD',\n",
              " 'QX70 AWD',\n",
              " 'QX80 4WD',\n",
              " 'F-TYPE CONVERTIBLE',\n",
              " 'F-TYPE S CONVERTIBLE',\n",
              " 'F-TYPE V8 S CONVERTIBLE',\n",
              " 'XF',\n",
              " 'XF 3.0L AWD',\n",
              " 'XFR',\n",
              " 'XFR-S',\n",
              " 'XJ AWD',\n",
              " 'XJ SUPERCHARGED',\n",
              " 'XJL AWD PORTFOLIO',\n",
              " 'XJL SUPERCHARGED',\n",
              " 'XJR',\n",
              " 'XJR LWB',\n",
              " 'XK CONVERTIBLE',\n",
              " 'XK COUPE',\n",
              " 'XKR CONVERTIBLE',\n",
              " 'XKR COUPE',\n",
              " 'XKR-S CONVERTIBLE',\n",
              " 'XKR-S COUPE',\n",
              " 'CHEROKEE',\n",
              " 'CHEROKEE 4X4',\n",
              " 'CHEROKEE 4X4 ACTIVE DRIVE II',\n",
              " 'CHEROKEE TRAILHAWK 4X4',\n",
              " 'COMPASS',\n",
              " 'COMPASS 4X4',\n",
              " 'COMPASS 4X4 TRAIL RATED',\n",
              " 'GRAND CHEROKEE 4X4 (MDS)',\n",
              " 'GRAND CHEROKEE 4X4 DIESEL',\n",
              " 'GRAND CHEROKEE 4X4 FFV',\n",
              " 'GRAND CHEROKEE SRT 4X4 (MDS)',\n",
              " 'PATRIOT',\n",
              " 'PATRIOT 4X4',\n",
              " 'PATRIOT 4X4 TRAIL RATED',\n",
              " 'WRANGLER 4X4 (2-DOOR)',\n",
              " 'WRANGLER UNLIMITED 4X4 (4-DOOR)',\n",
              " 'CADENZA',\n",
              " 'FORTE',\n",
              " 'FORTE 5',\n",
              " 'FORTE KOUP',\n",
              " 'OPTIMA',\n",
              " 'OPTIMA HYBRID',\n",
              " 'OPTIMA HYBRID EX',\n",
              " 'RIO',\n",
              " 'RIO ECO',\n",
              " 'RONDO',\n",
              " 'SEDONA',\n",
              " 'SORENTO',\n",
              " 'SORENTO 4WD',\n",
              " 'SOUL',\n",
              " 'SOUL ECO Dynamics',\n",
              " 'SPORTAGE',\n",
              " 'SPORTAGE AWD',\n",
              " 'AVENTADOR COUPE',\n",
              " 'GALLARDO COUPE',\n",
              " 'LR2',\n",
              " 'LR4',\n",
              " 'RANGE ROVER EVOQUE',\n",
              " 'RANGE ROVER EVOQUE COUPE',\n",
              " 'RANGE ROVER LWB V8 5.0 SC',\n",
              " 'RANGE ROVER LWB V8 5.0 SC FFV',\n",
              " 'RANGE ROVER SPORT V6 3.0 SC',\n",
              " 'RANGE ROVER SPORT V6 3.0 SC FFV',\n",
              " 'RANGE ROVER SPORT V8 5.0 SC',\n",
              " 'RANGE ROVER SPORT V8 5.0 SC FFV',\n",
              " 'RANGE ROVER V6 3.0 SC',\n",
              " 'RANGE ROVER V6 3.0 SC FFV',\n",
              " 'RANGE ROVER V8 5.0 SC',\n",
              " 'RANGE ROVER V8 5.0 SC FFV',\n",
              " 'CT 200h',\n",
              " 'ES 300h',\n",
              " 'ES 350',\n",
              " 'GS 350',\n",
              " 'GS 350 AWD',\n",
              " 'GS 450h',\n",
              " 'GX 460',\n",
              " 'IS 250',\n",
              " 'IS 250 AWD',\n",
              " 'IS 250 C',\n",
              " 'IS 350',\n",
              " 'IS 350 AWD',\n",
              " 'IS 350 C',\n",
              " 'IS F',\n",
              " 'LS 460',\n",
              " 'LS 460 AWD',\n",
              " 'LS 460 L AWD',\n",
              " 'LS 600h L',\n",
              " 'LX 570',\n",
              " 'RX 350 AWD',\n",
              " 'RX 450h AWD',\n",
              " 'MKS AWD',\n",
              " 'MKT AWD',\n",
              " 'MKT LIVERY',\n",
              " 'MKT LIVERY AWD',\n",
              " 'MKX AWD',\n",
              " 'MKZ',\n",
              " 'MKZ AWD',\n",
              " 'MKZ HYBRID',\n",
              " 'NAVIGATOR 4X4 FFV',\n",
              " 'GHIBLI',\n",
              " 'GHIBLI AWD',\n",
              " 'GRANTURISMO',\n",
              " 'GRANTURISMO CONVERTIBLE',\n",
              " 'QUATTROPORTE GTS',\n",
              " 'QUATTROPORTE SQ4',\n",
              " 'CX-5',\n",
              " 'CX-5 4WD',\n",
              " 'CX-9',\n",
              " 'CX-9 4WD',\n",
              " 'MAZDA2',\n",
              " 'MAZDA3 4-DOOR',\n",
              " 'MAZDA3 4-DOOR (i-ELOOP)',\n",
              " 'MAZDA3 4-DOOR (SIL)',\n",
              " 'MAZDA3 5-DOOR',\n",
              " 'MAZDA3 5-DOOR (i-ELOOP)',\n",
              " 'MAZDA3 5-DOOR (SIL)',\n",
              " 'MAZDA5',\n",
              " 'MAZDA6',\n",
              " 'MAZDA6 (i-ELOOP)',\n",
              " 'MX-5',\n",
              " 'B 250',\n",
              " 'C 250',\n",
              " 'C 250 COUPE',\n",
              " 'C 300 4MATIC FFV',\n",
              " 'C 350',\n",
              " 'C 350 4MATIC',\n",
              " 'C 350 4MATIC COUPE',\n",
              " 'C 350 COUPE',\n",
              " 'C 63 AMG',\n",
              " 'C 63 AMG COUPE',\n",
              " 'CL 550 4MATIC',\n",
              " 'CL 63 AMG',\n",
              " 'CLA 250',\n",
              " 'CLA 45 AMG 4MATIC',\n",
              " 'CLS 550 4MATIC',\n",
              " 'CLS 63 AMG 4MATIC',\n",
              " 'CLS 63 AMG S 4MATIC',\n",
              " 'E 250 BLUETEC 4MATIC',\n",
              " 'E 300 4MATIC',\n",
              " 'E 350 4MATIC',\n",
              " 'E 350 4MATIC COUPE',\n",
              " 'E 350 4MATIC WAGON',\n",
              " 'E 350 CABRIOLET',\n",
              " 'E 350 COUPE',\n",
              " 'E 400 HYBRID',\n",
              " 'E 550 4MATIC',\n",
              " 'E 550 CABRIOLET',\n",
              " 'E 550 COUPE',\n",
              " 'E 63 AMG 4MATIC',\n",
              " 'E 63 AMG 4MATIC WAGON',\n",
              " 'E 63 AMG S 4MATIC',\n",
              " 'E 63 AMG S 4MATIC WAGON',\n",
              " 'G 550',\n",
              " 'G 63 AMG',\n",
              " 'GL 350 BLUETEC 4MATIC',\n",
              " 'GL 450 4MATIC',\n",
              " 'GL 550 4MATIC',\n",
              " 'GL 63 AMG',\n",
              " 'GLK 250 BLUETEC 4MATIC',\n",
              " 'GLK 350 4MATIC',\n",
              " 'ML 350 4MATIC FFV',\n",
              " 'ML 350 BLUETEC 4MATIC',\n",
              " 'ML 550 4MATIC',\n",
              " 'ML 63 AMG 4MATIC',\n",
              " 'S 550 4MATIC LWB',\n",
              " 'S 550 4MATIC SWB',\n",
              " 'S 63 AMG 4MATIC',\n",
              " 'SL 550',\n",
              " 'SL 63 AMG',\n",
              " 'SL 65 AMG',\n",
              " 'SLK 250',\n",
              " 'SLK 350',\n",
              " 'SLK 55 AMG',\n",
              " 'SLS AMG BLACK SERIES COUPE',\n",
              " 'SLS AMG GT COUPE',\n",
              " 'SLS AMG ROADSTER',\n",
              " 'COOPER CLUBMAN',\n",
              " 'COOPER CONVERTIBLE',\n",
              " 'COOPER COUNTRYMAN',\n",
              " 'COOPER COUPE',\n",
              " 'COOPER PACEMAN',\n",
              " 'COOPER ROADSTER',\n",
              " 'COOPER S CLUBMAN',\n",
              " 'COOPER S CONVERTIBLE',\n",
              " 'COOPER S COUNTRYMAN ALL4',\n",
              " 'COOPER S COUPE',\n",
              " 'COOPER S PACEMAN ALL4',\n",
              " 'COOPER S ROADSTER',\n",
              " 'JOHN COOPER WORKS CLUBMAN',\n",
              " 'JOHN COOPER WORKS CONVERTIBLE',\n",
              " 'JOHN COOPER WORKS COUNTRYMAN ALL4',\n",
              " 'JOHN COOPER WORKS COUPE',\n",
              " 'JOHN COOPER WORKS PACEMAN ALL4',\n",
              " 'JOHN COOPER WORKS ROADSTER',\n",
              " 'LANCER',\n",
              " 'LANCER AWD',\n",
              " 'LANCER EVOLUTION',\n",
              " 'LANCER RALLIART',\n",
              " 'LANCER SPORTBACK',\n",
              " 'MIRAGE',\n",
              " 'OUTLANDER',\n",
              " 'OUTLANDER 4WD',\n",
              " 'RVR',\n",
              " 'RVR 4WD',\n",
              " '370Z',\n",
              " '370Z ROADSTER',\n",
              " 'ALTIMA',\n",
              " 'ARMADA 4WD',\n",
              " 'FRONTIER',\n",
              " 'FRONTIER 4WD',\n",
              " 'GT-R',\n",
              " 'JUKE',\n",
              " 'JUKE AWD',\n",
              " 'MAXIMA',\n",
              " 'MURANO AWD',\n",
              " 'NV200 CARGO VAN',\n",
              " 'PATHFINDER',\n",
              " 'PATHFINDER 4WD',\n",
              " 'PATHFINDER HYBRID 4WD',\n",
              " 'QUEST',\n",
              " 'ROGUE',\n",
              " 'ROGUE AWD',\n",
              " 'SENTRA',\n",
              " 'TITAN',\n",
              " 'TITAN 4WD',\n",
              " 'VERSA',\n",
              " 'XTERRA 4WD',\n",
              " '911 CARRERA',\n",
              " '911 CARRERA 4',\n",
              " '911 CARRERA 4 CABRIOLET',\n",
              " '911 CARRERA 4S',\n",
              " '911 CARRERA 4S CABRIOLET',\n",
              " '911 CARRERA CABRIOLET',\n",
              " '911 CARRERA S',\n",
              " '911 CARRERA S CABRIOLET',\n",
              " '911 GT3',\n",
              " '911 TURBO',\n",
              " '911 TURBO CABRIOLET',\n",
              " '911 TURBO S',\n",
              " '911 TURBO S CABRIOLET',\n",
              " 'BOXSTER',\n",
              " 'BOXSTER S',\n",
              " 'CAYENNE',\n",
              " 'CAYENNE DIESEL (modified)',\n",
              " 'CAYENNE GTS',\n",
              " 'CAYENNE S',\n",
              " 'CAYENNE S HYBRID',\n",
              " 'CAYENNE TURBO',\n",
              " 'CAYENNE TURBO S',\n",
              " 'CAYMAN',\n",
              " 'CAYMAN S',\n",
              " 'PANAMERA',\n",
              " 'PANAMERA 4',\n",
              " 'PANAMERA 4S',\n",
              " 'PANAMERA 4S EXECUTIVE',\n",
              " 'PANAMERA GTS',\n",
              " 'PANAMERA S',\n",
              " 'PANAMERA TURBO',\n",
              " 'PANAMERA TURBO EXECUTIVE',\n",
              " '1500 (MDS)',\n",
              " '1500 4X4 (MDS)',\n",
              " '1500 4X4 DIESEL',\n",
              " '1500 4X4 FFV',\n",
              " '1500 DIESEL',\n",
              " '1500 FFV',\n",
              " '1500 HFE',\n",
              " 'CARGO VAN FFV',\n",
              " 'GHOST',\n",
              " 'GHOST EWB',\n",
              " 'PHANTOM',\n",
              " 'PHANTOM COUPE',\n",
              " 'PHANTOM DROPHEAD COUPE',\n",
              " 'PHANTOM EWB',\n",
              " 'WRAITH',\n",
              " 'FR-S',\n",
              " 'iQ',\n",
              " 'tC',\n",
              " 'xB',\n",
              " 'xD',\n",
              " 'FORTWO CABRIOLET',\n",
              " 'FORTWO COUPE',\n",
              " 'VIPER COUPE',\n",
              " 'VIPER GTS COUPE',\n",
              " 'BRZ',\n",
              " 'FORESTER AWD',\n",
              " 'IMPREZA AWD',\n",
              " 'IMPREZA WAGON AWD',\n",
              " 'LEGACY AWD',\n",
              " 'OUTBACK AWD',\n",
              " 'TRIBECA AWD',\n",
              " 'XV CROSSTREK AWD',\n",
              " 'XV CROSSTREK HYBRID AWD',\n",
              " '4RUNNER (Part-Time 4WD)',\n",
              " '4RUNNER 4WD',\n",
              " 'AVALON',\n",
              " 'CAMRY',\n",
              " 'CAMRY HYBRID LE',\n",
              " 'CAMRY HYBRID XLE/SE',\n",
              " 'COROLLA',\n",
              " 'COROLLA LE ECO (1-mode)',\n",
              " 'COROLLA LE ECO (2-mode)',\n",
              " 'COROLLA MATRIX',\n",
              " 'FJ CRUISER 4WD',\n",
              " 'HIGHLANDER',\n",
              " 'HIGHLANDER AWD',\n",
              " 'HIGHLANDER HYBRID AWD',\n",
              " 'HIGHLANDER HYBRID AWD LE',\n",
              " 'PRIUS',\n",
              " 'PRIUS c',\n",
              " 'PRIUS v',\n",
              " 'RAV4',\n",
              " 'RAV4 AWD',\n",
              " 'RAV4 LIMITED AWD',\n",
              " 'SEQUOIA 4WD',\n",
              " 'SIENNA',\n",
              " 'SIENNA AWD',\n",
              " 'TACOMA',\n",
              " 'TACOMA 4WD',\n",
              " 'TUNDRA',\n",
              " 'TUNDRA 4WD',\n",
              " 'VENZA',\n",
              " 'VENZA 4WD',\n",
              " 'YARIS',\n",
              " 'BEETLE',\n",
              " 'BEETLE TDI (modified)',\n",
              " 'BEETLE CONVERTIBLE',\n",
              " 'CC',\n",
              " 'CC 4MOTION',\n",
              " 'EOS',\n",
              " 'GOLF WAGON',\n",
              " 'GOLF WAGON TDI (modified)',\n",
              " 'JETTA',\n",
              " 'JETTA TDI (modified)',\n",
              " 'JETTA GLI',\n",
              " 'JETTA TURBO HYBRID',\n",
              " 'PASSAT',\n",
              " 'PASSAT TDI (modified)',\n",
              " 'ROUTAN',\n",
              " 'TIGUAN',\n",
              " 'TIGUAN 4MOTION',\n",
              " 'TOUAREG',\n",
              " 'TOUAREG TDI (modified)',\n",
              " 'S60',\n",
              " 'S60 AWD',\n",
              " 'S80',\n",
              " 'S80 AWD',\n",
              " 'XC60',\n",
              " 'XC60 AWD',\n",
              " 'XC70 AWD',\n",
              " 'XC90 AWD',\n",
              " 'MDX SH-AWD',\n",
              " 'RLX HYBRID',\n",
              " 'TLX',\n",
              " 'TLX SH-AWD',\n",
              " 'RAPIDE S',\n",
              " 'V12 VANTAGE S',\n",
              " 'VANTAGE GT',\n",
              " 'A3',\n",
              " 'A3 TDI (modified)',\n",
              " 'A3 QUATTRO',\n",
              " 'A3 CABRIOLET QUATTRO',\n",
              " 'A4 ALLROAD QUATTRO',\n",
              " 'Q3',\n",
              " 'Q3 QUATTRO',\n",
              " 'S3',\n",
              " 'CONTINENTAL GT CONVERTIBLE',\n",
              " 'CONTINENTAL GT3-R',\n",
              " '228i CABRIOLET',\n",
              " '228i COUPE',\n",
              " '228i xDRIVE CABRIOLET',\n",
              " '228i xDRIVE COUPE',\n",
              " '320i SEDAN',\n",
              " '320i xDRIVE SEDAN',\n",
              " '328d xDRIVE SEDAN',\n",
              " '328i SEDAN',\n",
              " '328i xDRIVE SEDAN',\n",
              " '335i SEDAN',\n",
              " '335i xDRIVE SEDAN',\n",
              " '428i CABRIOLET',\n",
              " '428i GRAN COUPE',\n",
              " '428i xDRIVE CABRIOLET',\n",
              " '428i xDRIVE GRAN COUPE',\n",
              " '435i CABRIOLET',\n",
              " '435i GRAN COUPE',\n",
              " '435i xDRIVE CABRIOLET',\n",
              " '435i xDRIVE GRAN COUPE',\n",
              " '528i SEDAN',\n",
              " '528i xDRIVE SEDAN',\n",
              " '535d xDRIVE SEDAN',\n",
              " '535i xDRIVE SEDAN',\n",
              " '550i xDRIVE SEDAN',\n",
              " '640i xDRIVE CABRIOLET',\n",
              " '740Ld xDRIVE SEDAN',\n",
              " '740Li xDRIVE SEDAN',\n",
              " '750i xDRIVE SEDAN',\n",
              " '750Li xDRIVE SEDAN',\n",
              " '760Li SEDAN',\n",
              " 'ALPINA B6 xDRIVE GRAN COUPE',\n",
              " 'M235i CABRIOLET',\n",
              " 'M235i COUPE',\n",
              " 'M235i xDRIVE COUPE',\n",
              " 'M3 SEDAN',\n",
              " 'M4 CABRIOLET',\n",
              " 'M4 COUPE',\n",
              " 'M5 SEDAN',\n",
              " 'M6 COUPE',\n",
              " 'X3 xDRIVE28d',\n",
              " 'X4 xDRIVE28i',\n",
              " 'X4 xDRIVE35i',\n",
              " 'X5 M',\n",
              " 'X5 xDRIVE35d',\n",
              " 'CTS',\n",
              " 'CTS AWD',\n",
              " 'CTS Vsport',\n",
              " 'ESCALADE 4WD',\n",
              " 'ESCALADE ESV 4WD',\n",
              " 'CAMARO Z/28',\n",
              " 'CITY EXPRESS',\n",
              " 'COLORADO',\n",
              " 'COLORADO 4WD',\n",
              " 'CORVETTE Z06',\n",
              " 'EQUINOX FFV',\n",
              " 'EQUINOX AWD FFV',\n",
              " 'EXPRESS 2500 PASSENGER FFV',\n",
              " 'EXPRESS 3500 PASSENGER FFV',\n",
              " '200',\n",
              " '200 FFV',\n",
              " '200 AWD',\n",
              " '200 AWD FFV',\n",
              " 'CHALLENGER SRT HELLCAT',\n",
              " 'CHARGER SRT 392 HEMI',\n",
              " 'CHARGER SRT HELLCAT',\n",
              " 'VIPER SRT COUPE',\n",
              " '500L',\n",
              " 'EDGE (Start/Stop)',\n",
              " 'EDGE SPORT AWD',\n",
              " 'EXPEDITION 4X4',\n",
              " 'EXPEDITION MAX 4X4',\n",
              " 'EXPLORER AWD (EcoBoost)',\n",
              " 'T-150 WAGON',\n",
              " 'T-150 WAGON FFV',\n",
              " 'TRANSIT CONNECT VAN',\n",
              " 'TRANSIT CONNECT WAGON TAXI',\n",
              " 'CANYON',\n",
              " 'CANYON 4WD',\n",
              " 'SAVANA 2500 PASSENGER FFV',\n",
              " 'SAVANA 3500 PASSENGER FFV',\n",
              " 'TERRAIN FFV',\n",
              " 'YUKON DENALI 4WD',\n",
              " 'YUKON XL DENALI 4WD',\n",
              " 'CIVIC Si',\n",
              " 'CIVIC HYBRID',\n",
              " 'PILOT 4WD',\n",
              " 'ELANTRA',\n",
              " 'ELANTRA COUPE',\n",
              " 'GENESIS AWD',\n",
              " 'GENESIS COUPE',\n",
              " 'SANTA FE AWD',\n",
              " 'SANTA FE SPORT AWD',\n",
              " 'SANTA FE ULTIMATE AWD',\n",
              " 'SONATA SPORT/LIMITED',\n",
              " 'TUCSON AWD',\n",
              " 'Q60',\n",
              " 'Q60 AWD',\n",
              " 'F-TYPE COUPE',\n",
              " 'F-TYPE S COUPE',\n",
              " 'F-TYPE V8 R COUPE',\n",
              " 'XF AWD',\n",
              " 'CHEROKEE FFV',\n",
              " 'CHEROKEE 4X4 FFV',\n",
              " 'RENEGADE',\n",
              " 'RENEGADE FFV',\n",
              " 'RENEGADE 4X4',\n",
              " 'WRANGLER 4X4',\n",
              " 'WRANGLER UNLIMITED 4X4',\n",
              " 'K900',\n",
              " 'SEDONA SX',\n",
              " 'SEDONA SXL',\n",
              " 'SORENTO AWD',\n",
              " 'AVENTADOR ROADSTER',\n",
              " 'HURACAN',\n",
              " 'VENENO ROADSTER',\n",
              " 'RANGE ROVER',\n",
              " 'RANGE ROVER SUPERCHARGED',\n",
              " 'RANGE ROVER SUPERCHARGED LWB',\n",
              " 'RANGE ROVER SPORT',\n",
              " 'RANGE ROVER SPORT SUPERCHARGED',\n",
              " 'NX 200t AWD',\n",
              " 'NX 200t AWD F SPORT',\n",
              " 'NX 300h AWD',\n",
              " 'RC 350',\n",
              " 'RC 350 AWD',\n",
              " 'RC F',\n",
              " 'MKC AWD',\n",
              " 'NAVIGATOR 4X4',\n",
              " 'NAVIGATOR L 4X4',\n",
              " 'B 250 4MATIC',\n",
              " 'C 300 4MATIC',\n",
              " 'C 400 4MATIC',\n",
              " 'CLA 250 4MATIC',\n",
              " 'CLA 45 AMG',\n",
              " 'CLS 400 4MATIC',\n",
              " 'E 400 4MATIC',\n",
              " 'E 400 4MATIC WAGON',\n",
              " 'E 400 CABRIOLET',\n",
              " 'E 400 COUPE',\n",
              " 'GLA 250 4MATIC',\n",
              " 'GLA 45 AMG 4MATIC',\n",
              " 'ML 400 4MATIC',\n",
              " 'S 400 4MATIC',\n",
              " 'S 550 4MATIC COUPE',\n",
              " 'S 600',\n",
              " 'S 63 AMG COUPE',\n",
              " 'S 65 AMG',\n",
              " 'S 65 AMG COUPE',\n",
              " 'SLS AMG GT ROADSTER',\n",
              " 'COOPER 3 DOOR',\n",
              " 'COOPER 5 DOOR',\n",
              " 'COOPER S 3 DOOR',\n",
              " 'COOPER S 5 DOOR',\n",
              " 'JOHN COOPER WORKS',\n",
              " '370Z COUPE',\n",
              " 'JUKE NISMO RS',\n",
              " 'JUKE NISMO RS AWD',\n",
              " 'MICRA',\n",
              " 'MURANO',\n",
              " 'PATHFINDER 4WD PLATINUM',\n",
              " '911 CARRERA 4 GTS',\n",
              " '911 CARRERA 4 GTS CABRIOLET',\n",
              " '911 CARRERA GTS',\n",
              " '911 CARRERA GTS CABRIOLET',\n",
              " '911 TARGA 4',\n",
              " '911 TARGA 4S',\n",
              " 'BOXSTER GTS',\n",
              " 'CAYMAN GTS',\n",
              " 'MACAN S',\n",
              " 'MACAN TURBO',\n",
              " 'PANAMERA TURBO S',\n",
              " 'PANAMERA TURBO S EXECUTIVE',\n",
              " '1500',\n",
              " '1500 ECODIESEL',\n",
              " '1500 ECODIESEL HFE',\n",
              " '1500 4X4',\n",
              " '1500 4X4 ECODIESEL',\n",
              " 'PROMASTER CITY',\n",
              " 'WRX',\n",
              " '4RUNNER 4WD (Part-Time 4WD)',\n",
              " 'RAV4 LE/XLE',\n",
              " 'GOLF',\n",
              " 'GOLF TDI (modified)',\n",
              " 'GOLF GTI',\n",
              " 'GOLF SPORTWAGON',\n",
              " 'GOLF SPORTWAGON TDI (modified)',\n",
              " 'JETTA HYBRID',\n",
              " 'S60 POLESTAR AWD',\n",
              " 'S60 T5 ',\n",
              " 'S60 T5 AWD',\n",
              " 'S60 T6   ',\n",
              " 'S60 T6 AWD',\n",
              " 'S80 T5',\n",
              " 'S80 T6 AWD',\n",
              " 'V60 CC',\n",
              " 'V60 CC AWD',\n",
              " 'V60 POLESTAR AWD',\n",
              " 'V60 T5',\n",
              " 'V60 T5 AWD',\n",
              " 'V60 T6 AWD',\n",
              " 'XC60 3.2 AWD',\n",
              " 'XC60 T5',\n",
              " 'XC60 T5 AWD',\n",
              " 'XC60 T6  ',\n",
              " 'XC60 T6 AWD',\n",
              " 'XC70 3.2 AWD',\n",
              " 'XC70 T5',\n",
              " 'XC70 T6 AWD',\n",
              " 'MDX SH-AWD ELITE',\n",
              " 'DB9 GT',\n",
              " 'A8 QUATTRO',\n",
              " 'A8 QUATTRO TDI (modified)',\n",
              " 'A8L QUATTRO',\n",
              " 'Q5 QUATTRO',\n",
              " 'Q5 QUATTRO TDI (modified)',\n",
              " 'Q5 HYBRID QUATTRO',\n",
              " 'RS 7 QUATTRO',\n",
              " 'S3 QUATTRO',\n",
              " 'S4 QUATTRO',\n",
              " 'S5 QUATTRO',\n",
              " 'S5 CABRIOLET QUATTRO',\n",
              " 'S6 QUATTRO',\n",
              " 'S7 QUATTRO',\n",
              " 'S8 QUATTRO',\n",
              " 'SQ5 QUATTRO',\n",
              " '228i',\n",
              " '228i xDRIVE',\n",
              " '340i',\n",
              " '340i xDRIVE',\n",
              " 'M2',\n",
              " 'M235i',\n",
              " 'M235i xDRIVE',\n",
              " 'M235i xDRIVE CABRIOLET',\n",
              " 'M3',\n",
              " 'X4 M40i',\n",
              " 'ENCORE SPORT TOURING',\n",
              " 'ENCORE SPORT TOURING AWD',\n",
              " 'ENVISION AWD',\n",
              " 'LACROSSE FFV',\n",
              " 'LACROSSE AWD FFV',\n",
              " 'ATS-V',\n",
              " 'CT6',\n",
              " 'CT6 AWD',\n",
              " 'CTS-V',\n",
              " 'CRUZE PREMIER',\n",
              " 'CRUZE LIMITED',\n",
              " 'CRUZE LIMITED ECO',\n",
              " 'IMPALA FFV',\n",
              " 'IMPALA DUAL FUEL',\n",
              " 'MALIBU LIMITED',\n",
              " 'MALIBU HYBRID',\n",
              " 'SILVERADO FFV',\n",
              " 'SILVERADO 4WD FFV',\n",
              " 'SILVERADO eASSIST 4WD',\n",
              " 'SUBURBAN FFV',\n",
              " 'SUBURBAN 4WD FFV',\n",
              " 'TAHOE FFV',\n",
              " 'TAHOE 4WD FFV',\n",
              " 'TRAX 4WD',\n",
              " 'DURANGO AWD',\n",
              " 'VIPER SRT',\n",
              " '500X',\n",
              " '500X AWD',\n",
              " 'EXPEDITION EL 4X4',\n",
              " 'F-150 (Payload Pkg)',\n",
              " 'F-150 FFV (Payload Pkg)',\n",
              " 'F-150 4X4 (Payload Pkg)',\n",
              " 'F-150 FFV 4X4 (Payload Pkg)',\n",
              " 'FLEX AWD GTDI',\n",
              " 'FOCUS RS AWD',\n",
              " 'FOCUS ST',\n",
              " 'SHELBY GT350 MUSTANG',\n",
              " 'TRANSIT CONNECT VAN FFV',\n",
              " 'TRANSIT CONNECT WAGON FFV',\n",
              " 'TRANSIT CONNECT WAGON LWB',\n",
              " 'TRANSIT CONNECT WAGON LWB FFV',\n",
              " 'SIERRA FFV',\n",
              " 'SIERRA 4WD FFV',\n",
              " 'SIERRA eASSIST 4WD',\n",
              " 'YUKON FFV',\n",
              " 'YUKON 4WD FFV',\n",
              " 'YUKON XL FFV',\n",
              " 'YUKON XL 4WD FFV',\n",
              " 'ACCORD COUPE',\n",
              " 'ACCORD SEDAN',\n",
              " 'ACCORD SPORT',\n",
              " 'CIVIC COUPE',\n",
              " 'CIVIC SEDAN',\n",
              " 'HR-V',\n",
              " 'HR-V AWD',\n",
              " 'Q50S AWD',\n",
              " 'Q50S RED SPORT',\n",
              " 'Q50S RED SPORT AWD',\n",
              " 'F-TYPE PROJECT 7 CONVERTIBLE',\n",
              " 'F-TYPE R AWD CONVERTIBLE',\n",
              " 'F-TYPE R AWD COUPE',\n",
              " 'F-TYPE S CONVERTIBLE AWD',\n",
              " 'F-TYPE S COUPE AWD',\n",
              " 'XF AWD ',\n",
              " 'XJ R-SPORT 3.0 AWD',\n",
              " 'XJL 3.0 AWD PORTFOLIO',\n",
              " 'GRAND CHEROKEE 4X4',\n",
              " 'SOUL ECO DYNAMICS',\n",
              " 'HURACAN SPYDER',\n",
              " 'DISCOVERY SPORT',\n",
              " 'RANGE ROVER TD6 DIESEL',\n",
              " 'RANGE ROVER SPORT TD6 DIESEL',\n",
              " 'GS 200t',\n",
              " 'GS 200t F SPORT',\n",
              " 'GS 350 F SPORT',\n",
              " 'GS F',\n",
              " 'IS 200t',\n",
              " 'IS 300 AWD',\n",
              " 'RC 200t',\n",
              " 'RC 300 AWD',\n",
              " 'GHIBLI S',\n",
              " 'GHIBLI SQ4',\n",
              " ...]"
            ]
          },
          "execution_count": 17,
          "metadata": {},
          "output_type": "execute_result"
        }
      ]
    },
    {
      "cell_type": "code",
      "metadata": {
        "id": "q_vbuN8GI4DP",
        "outputId": "e6806e88-52eb-40b1-958d-7332c3dae6c7"
      },
      "source": [
        "df.info()"
      ],
      "execution_count": null,
      "outputs": [
        {
          "name": "stdout",
          "output_type": "stream",
          "text": [
            "<class 'pandas.core.frame.DataFrame'>\n",
            "RangeIndex: 7385 entries, 0 to 7384\n",
            "Data columns (total 12 columns):\n",
            " #   Column                            Non-Null Count  Dtype  \n",
            "---  ------                            --------------  -----  \n",
            " 0   Make                              7385 non-null   object \n",
            " 1   Model                             7385 non-null   object \n",
            " 2   Vehicle Class                     7385 non-null   object \n",
            " 3   Engine Size(L)                    7385 non-null   float64\n",
            " 4   Cylinders                         7385 non-null   int64  \n",
            " 5   Transmission                      7385 non-null   object \n",
            " 6   Fuel Type                         7385 non-null   object \n",
            " 7   Fuel Consumption City (L/100 km)  7385 non-null   float64\n",
            " 8   Fuel Consumption Hwy (L/100 km)   7385 non-null   float64\n",
            " 9   Fuel Consumption Comb (L/100 km)  7385 non-null   float64\n",
            " 10  Fuel Consumption Comb (mpg)       7385 non-null   int64  \n",
            " 11  CO2 Emissions(g/km)               7385 non-null   int64  \n",
            "dtypes: float64(4), int64(3), object(5)\n",
            "memory usage: 692.5+ KB\n"
          ]
        }
      ]
    },
    {
      "cell_type": "code",
      "metadata": {
        "id": "8pzAs02bI4DZ",
        "outputId": "0d31857f-ef47-4fed-b89e-b27b98ce93df"
      },
      "source": [
        "#Get the shape of the dataset\n",
        "df.shape"
      ],
      "execution_count": null,
      "outputs": [
        {
          "data": {
            "text/plain": [
              "(7385, 12)"
            ]
          },
          "execution_count": 5,
          "metadata": {},
          "output_type": "execute_result"
        }
      ]
    },
    {
      "cell_type": "code",
      "metadata": {
        "id": "9QfOV-XGI4Db",
        "outputId": "88dd759d-d825-475f-e2d8-c615ec44fa06"
      },
      "source": [
        "df.columns"
      ],
      "execution_count": null,
      "outputs": [
        {
          "data": {
            "text/plain": [
              "Index(['Make', 'Model', 'Vehicle Class', 'Engine Size(L)', 'Cylinders',\n",
              "       'Transmission', 'Fuel Type', 'Fuel Consumption City (L/100 km)',\n",
              "       'Fuel Consumption Hwy (L/100 km)', 'Fuel Consumption Comb (L/100 km)',\n",
              "       'Fuel Consumption Comb (mpg)', 'CO2 Emissions(g/km)'],\n",
              "      dtype='object')"
            ]
          },
          "execution_count": 5,
          "metadata": {},
          "output_type": "execute_result"
        }
      ]
    },
    {
      "cell_type": "code",
      "metadata": {
        "id": "uugCdYNRI4Dd",
        "outputId": "d9cdeebc-bfd0-4c20-c512-336970360e12"
      },
      "source": [
        "np.max(df[df.columns[-1]].values)"
      ],
      "execution_count": null,
      "outputs": [
        {
          "data": {
            "text/plain": [
              "522"
            ]
          },
          "execution_count": 6,
          "metadata": {},
          "output_type": "execute_result"
        }
      ]
    },
    {
      "cell_type": "code",
      "metadata": {
        "id": "_qFsfnRTI4Df",
        "outputId": "2407fd88-b2a4-4563-cda8-1a97cf3f65ff"
      },
      "source": [
        "# The maximum co2 emission for a vehicle from the dataset is 522g/km\n",
        "# Lets see how many cylinders this particular vehicle has\n",
        "df['Engine Size(L)'].values[np.argmax(df[df.columns[-1]].values)]"
      ],
      "execution_count": null,
      "outputs": [
        {
          "data": {
            "text/plain": [
              "8.0"
            ]
          },
          "execution_count": 8,
          "metadata": {},
          "output_type": "execute_result"
        }
      ]
    },
    {
      "cell_type": "markdown",
      "metadata": {
        "id": "qbH13ktcI4Dm"
      },
      "source": [
        "### we can see from above that the car with 8 cylinders has the highest CO2 emission"
      ]
    },
    {
      "cell_type": "code",
      "metadata": {
        "id": "wnG-3OZDI4Dn",
        "outputId": "6b9b5bf4-bcd8-47ca-d45a-786e068c47a7"
      },
      "source": [
        "#let do some more data cleaning\n",
        "df.isnull().sum()"
      ],
      "execution_count": null,
      "outputs": [
        {
          "data": {
            "text/plain": [
              "Make                                0\n",
              "Model                               0\n",
              "Vehicle Class                       0\n",
              "Engine Size(L)                      0\n",
              "Cylinders                           0\n",
              "Transmission                        0\n",
              "Fuel Type                           0\n",
              "Fuel Consumption City (L/100 km)    0\n",
              "Fuel Consumption Hwy (L/100 km)     0\n",
              "Fuel Consumption Comb (L/100 km)    0\n",
              "Fuel Consumption Comb (mpg)         0\n",
              "CO2 Emissions(g/km)                 0\n",
              "dtype: int64"
            ]
          },
          "execution_count": 9,
          "metadata": {},
          "output_type": "execute_result"
        }
      ]
    },
    {
      "cell_type": "code",
      "metadata": {
        "id": "I_D1YY57I4Dq",
        "outputId": "ae566174-ace8-4731-8cff-76891d39857b"
      },
      "source": [
        "df.describe().T"
      ],
      "execution_count": null,
      "outputs": [
        {
          "data": {
            "text/html": [
              "<div>\n",
              "<style scoped>\n",
              "    .dataframe tbody tr th:only-of-type {\n",
              "        vertical-align: middle;\n",
              "    }\n",
              "\n",
              "    .dataframe tbody tr th {\n",
              "        vertical-align: top;\n",
              "    }\n",
              "\n",
              "    .dataframe thead th {\n",
              "        text-align: right;\n",
              "    }\n",
              "</style>\n",
              "<table border=\"1\" class=\"dataframe\">\n",
              "  <thead>\n",
              "    <tr style=\"text-align: right;\">\n",
              "      <th></th>\n",
              "      <th>count</th>\n",
              "      <th>mean</th>\n",
              "      <th>std</th>\n",
              "      <th>min</th>\n",
              "      <th>25%</th>\n",
              "      <th>50%</th>\n",
              "      <th>75%</th>\n",
              "      <th>max</th>\n",
              "    </tr>\n",
              "  </thead>\n",
              "  <tbody>\n",
              "    <tr>\n",
              "      <th>Engine Size(L)</th>\n",
              "      <td>6282.0</td>\n",
              "      <td>3.161812</td>\n",
              "      <td>1.365201</td>\n",
              "      <td>0.9</td>\n",
              "      <td>2.0</td>\n",
              "      <td>3.0</td>\n",
              "      <td>3.7</td>\n",
              "      <td>8.4</td>\n",
              "    </tr>\n",
              "    <tr>\n",
              "      <th>Cylinders</th>\n",
              "      <td>6282.0</td>\n",
              "      <td>5.618911</td>\n",
              "      <td>1.846250</td>\n",
              "      <td>3.0</td>\n",
              "      <td>4.0</td>\n",
              "      <td>6.0</td>\n",
              "      <td>6.0</td>\n",
              "      <td>16.0</td>\n",
              "    </tr>\n",
              "    <tr>\n",
              "      <th>Fuel Consumption City (L/100 km)</th>\n",
              "      <td>6282.0</td>\n",
              "      <td>12.610220</td>\n",
              "      <td>3.553066</td>\n",
              "      <td>4.2</td>\n",
              "      <td>10.1</td>\n",
              "      <td>12.1</td>\n",
              "      <td>14.7</td>\n",
              "      <td>30.6</td>\n",
              "    </tr>\n",
              "    <tr>\n",
              "      <th>Fuel Consumption Hwy (L/100 km)</th>\n",
              "      <td>6282.0</td>\n",
              "      <td>9.070583</td>\n",
              "      <td>2.278884</td>\n",
              "      <td>4.0</td>\n",
              "      <td>7.5</td>\n",
              "      <td>8.7</td>\n",
              "      <td>10.3</td>\n",
              "      <td>20.6</td>\n",
              "    </tr>\n",
              "    <tr>\n",
              "      <th>Fuel Consumption Comb (L/100 km)</th>\n",
              "      <td>6282.0</td>\n",
              "      <td>11.017876</td>\n",
              "      <td>2.946876</td>\n",
              "      <td>4.1</td>\n",
              "      <td>8.9</td>\n",
              "      <td>10.6</td>\n",
              "      <td>12.7</td>\n",
              "      <td>26.1</td>\n",
              "    </tr>\n",
              "    <tr>\n",
              "      <th>Fuel Consumption Comb (mpg)</th>\n",
              "      <td>6282.0</td>\n",
              "      <td>27.411016</td>\n",
              "      <td>7.245318</td>\n",
              "      <td>11.0</td>\n",
              "      <td>22.0</td>\n",
              "      <td>27.0</td>\n",
              "      <td>32.0</td>\n",
              "      <td>69.0</td>\n",
              "    </tr>\n",
              "    <tr>\n",
              "      <th>CO2 Emissions(g/km)</th>\n",
              "      <td>6282.0</td>\n",
              "      <td>251.157752</td>\n",
              "      <td>59.290426</td>\n",
              "      <td>96.0</td>\n",
              "      <td>208.0</td>\n",
              "      <td>246.0</td>\n",
              "      <td>289.0</td>\n",
              "      <td>522.0</td>\n",
              "    </tr>\n",
              "  </tbody>\n",
              "</table>\n",
              "</div>"
            ],
            "text/plain": [
              "                                   count        mean        std   min    25%  \\\n",
              "Engine Size(L)                    6282.0    3.161812   1.365201   0.9    2.0   \n",
              "Cylinders                         6282.0    5.618911   1.846250   3.0    4.0   \n",
              "Fuel Consumption City (L/100 km)  6282.0   12.610220   3.553066   4.2   10.1   \n",
              "Fuel Consumption Hwy (L/100 km)   6282.0    9.070583   2.278884   4.0    7.5   \n",
              "Fuel Consumption Comb (L/100 km)  6282.0   11.017876   2.946876   4.1    8.9   \n",
              "Fuel Consumption Comb (mpg)       6282.0   27.411016   7.245318  11.0   22.0   \n",
              "CO2 Emissions(g/km)               6282.0  251.157752  59.290426  96.0  208.0   \n",
              "\n",
              "                                    50%    75%    max  \n",
              "Engine Size(L)                      3.0    3.7    8.4  \n",
              "Cylinders                           6.0    6.0   16.0  \n",
              "Fuel Consumption City (L/100 km)   12.1   14.7   30.6  \n",
              "Fuel Consumption Hwy (L/100 km)     8.7   10.3   20.6  \n",
              "Fuel Consumption Comb (L/100 km)   10.6   12.7   26.1  \n",
              "Fuel Consumption Comb (mpg)        27.0   32.0   69.0  \n",
              "CO2 Emissions(g/km)               246.0  289.0  522.0  "
            ]
          },
          "execution_count": 12,
          "metadata": {},
          "output_type": "execute_result"
        }
      ]
    },
    {
      "cell_type": "markdown",
      "metadata": {
        "id": "NZZtTwenI4Ds"
      },
      "source": [
        "## We want to plot the make, vehicle class, cylinders, transmission and fuel type using bar chart"
      ]
    },
    {
      "cell_type": "code",
      "metadata": {
        "id": "sLvQSSiMI4Dt"
      },
      "source": [
        "def explore_cat_feature(feature):\n",
        "    group=df.groupby(feature).mean()\n",
        "    plt.figure(figsize=[15,5])\n",
        "    plots=group['CO2 Emissions(g/km)'].sort_values().plot(kind='bar',fontsize=15)\n",
        "    plt.xlabel(feature,fontsize=15)\n",
        "    plt.ylabel('Mean Co2 Emission',fontsize=15)\n",
        "  "
      ],
      "execution_count": null,
      "outputs": []
    },
    {
      "cell_type": "code",
      "metadata": {
        "id": "woPhG546I4Du",
        "outputId": "6f6dbbd0-7918-42d4-9a10-88bca2317f27"
      },
      "source": [
        "#Explore how all the features affect the CO2 emission\n",
        "for feature in ['Make','Vehicle Class', \n",
        "                'Engine Size(L)','Cylinders','Transmission','Fuel Type']:\n",
        "    explore_cat_feature(feature)"
      ],
      "execution_count": null,
      "outputs": [
        {
          "data": {
            "image/png": "[encoded data removed]",
            "text/plain": [
              "<Figure size 1080x360 with 1 Axes>"
            ]
          },
          "metadata": {},
          "output_type": "display_data"
        },
        {
          "data": {
            "image/png": "[encoded data removed]",
            "text/plain": [
              "<Figure size 1080x360 with 1 Axes>"
            ]
          },
          "metadata": {},
          "output_type": "display_data"
        },
        {
          "data": {
            "image/png": "[encoded data removed]",
            "text/plain": [
              "<Figure size 1080x360 with 1 Axes>"
            ]
          },
          "metadata": {},
          "output_type": "display_data"
        },
        {
          "data": {
            "image/png": "[encoded data removed]",
            "text/plain": [
              "<Figure size 1080x360 with 1 Axes>"
            ]
          },
          "metadata": {},
          "output_type": "display_data"
        },
        {
          "data": {
            "image/png": "[encoded data removed]",
            "text/plain": [
              "<Figure size 1080x360 with 1 Axes>"
            ]
          },
          "metadata": {},
          "output_type": "display_data"
        },
        {
          "data": {
            "image/png": "[encoded data removed]",
            "text/plain": [
              "<Figure size 1080x360 with 1 Axes>"
            ]
          },
          "metadata": {},
          "output_type": "display_data"
        }
      ]
    },
    {
      "cell_type": "markdown",
      "metadata": {
        "id": "KNNvn9MGI4Dw"
      },
      "source": [
        "### Clearly, we see that vehicle class, Engine size and Cylinders have a clear effect on increasing Co2 Emission"
      ]
    },
    {
      "cell_type": "code",
      "metadata": {
        "id": "5rhDAJ6fI4Dx",
        "outputId": "8639bb64-0833-47ef-cda9-a67ff551562b"
      },
      "source": [
        "df['Model'].value_counts()"
      ],
      "execution_count": null,
      "outputs": [
        {
          "data": {
            "text/plain": [
              "F-150 FFV                  32\n",
              "F-150 FFV 4X4              31\n",
              "MUSTANG                    27\n",
              "FOCUS FFV                  24\n",
              "F-150 4X4                  20\n",
              "                           ..\n",
              "NSX                         1\n",
              "Macan S                     1\n",
              "Silverado LD 4WD            1\n",
              "CX-5 (SIL)                  1\n",
              "4RUNNER (Part-Time 4WD)     1\n",
              "Name: Model, Length: 2053, dtype: int64"
            ]
          },
          "execution_count": 15,
          "metadata": {},
          "output_type": "execute_result"
        }
      ]
    },
    {
      "cell_type": "code",
      "metadata": {
        "id": "60qwz_NNI4D3"
      },
      "source": [
        "def explore_num_feature(feature):\n",
        "    plt.figure(figsize=[15,5])\n",
        "    plt.scatter(df[feature],df['CO2 Emissions(g/km)'])\n",
        "    plt.xlabel(feature,fontsize=15)\n",
        "    plt.ylabel('Co2 Emission',fontsize=15)\n",
        "    plt.title(\" Co2 Emission vs. {}\".format(feature),fontsize=20)"
      ],
      "execution_count": null,
      "outputs": []
    },
    {
      "cell_type": "code",
      "metadata": {
        "id": "s8QHPtP3I4D4",
        "outputId": "5b21873a-4341-42bc-fe68-811da52c909c"
      },
      "source": [
        "for feature in ['Fuel Consumption City (L/100 km)', \n",
        "                'Fuel Consumption Hwy (L/100 km)', \n",
        "                'Fuel Consumption Comb (L/100 km)', 'Fuel Consumption Comb (mpg)']:\n",
        "    explore_num_feature(feature)"
      ],
      "execution_count": null,
      "outputs": [
        {
          "data": {
            "image/png": "[encoded data removed]",
            "text/plain": [
              "<Figure size 1080x360 with 1 Axes>"
            ]
          },
          "metadata": {},
          "output_type": "display_data"
        },
        {
          "data": {
            "image/png": "[encoded data removed]",
            "text/plain": [
              "<Figure size 1080x360 with 1 Axes>"
            ]
          },
          "metadata": {},
          "output_type": "display_data"
        },
        {
          "data": {
            "image/png": "[encoded data removed]",
            "text/plain": [
              "<Figure size 1080x360 with 1 Axes>"
            ]
          },
          "metadata": {},
          "output_type": "display_data"
        },
        {
          "data": {
            "image/png": "[encoded data removed]",
            "text/plain": [
              "<Figure size 1080x360 with 1 Axes>"
            ]
          },
          "metadata": {},
          "output_type": "display_data"
        }
      ]
    },
    {
      "cell_type": "markdown",
      "metadata": {
        "id": "tWy9QVwUI4D6"
      },
      "source": [
        "## Modelling"
      ]
    },
    {
      "cell_type": "code",
      "metadata": {
        "id": "SM26I_a4I4D7",
        "outputId": "cff467f8-0524-4802-f443-e9386b780fc7"
      },
      "source": [
        "# lets drop all the unnecessary parameters\n",
        "df2 = df.drop(['Make','Model','Vehicle Class',\n",
        "               'Fuel Consumption City (L/100 km)', \n",
        "               'Transmission', 'Fuel Type', 'Fuel Consumption Hwy (L/100 km)','Fuel Consumption Comb (mpg)'],axis=1)\n",
        "df2.head()"
      ],
      "execution_count": null,
      "outputs": [
        {
          "data": {
            "text/html": [
              "<div>\n",
              "<style scoped>\n",
              "    .dataframe tbody tr th:only-of-type {\n",
              "        vertical-align: middle;\n",
              "    }\n",
              "\n",
              "    .dataframe tbody tr th {\n",
              "        vertical-align: top;\n",
              "    }\n",
              "\n",
              "    .dataframe thead th {\n",
              "        text-align: right;\n",
              "    }\n",
              "</style>\n",
              "<table border=\"1\" class=\"dataframe\">\n",
              "  <thead>\n",
              "    <tr style=\"text-align: right;\">\n",
              "      <th></th>\n",
              "      <th>Engine Size(L)</th>\n",
              "      <th>Cylinders</th>\n",
              "      <th>Fuel Consumption Comb (L/100 km)</th>\n",
              "      <th>CO2 Emissions(g/km)</th>\n",
              "    </tr>\n",
              "  </thead>\n",
              "  <tbody>\n",
              "    <tr>\n",
              "      <th>0</th>\n",
              "      <td>2.0</td>\n",
              "      <td>4</td>\n",
              "      <td>8.5</td>\n",
              "      <td>196</td>\n",
              "    </tr>\n",
              "    <tr>\n",
              "      <th>1</th>\n",
              "      <td>2.4</td>\n",
              "      <td>4</td>\n",
              "      <td>9.6</td>\n",
              "      <td>221</td>\n",
              "    </tr>\n",
              "    <tr>\n",
              "      <th>2</th>\n",
              "      <td>1.5</td>\n",
              "      <td>4</td>\n",
              "      <td>5.9</td>\n",
              "      <td>136</td>\n",
              "    </tr>\n",
              "    <tr>\n",
              "      <th>3</th>\n",
              "      <td>3.5</td>\n",
              "      <td>6</td>\n",
              "      <td>11.1</td>\n",
              "      <td>255</td>\n",
              "    </tr>\n",
              "    <tr>\n",
              "      <th>4</th>\n",
              "      <td>3.5</td>\n",
              "      <td>6</td>\n",
              "      <td>10.6</td>\n",
              "      <td>244</td>\n",
              "    </tr>\n",
              "  </tbody>\n",
              "</table>\n",
              "</div>"
            ],
            "text/plain": [
              "   Engine Size(L)  Cylinders  Fuel Consumption Comb (L/100 km)  \\\n",
              "0             2.0          4                               8.5   \n",
              "1             2.4          4                               9.6   \n",
              "2             1.5          4                               5.9   \n",
              "3             3.5          6                              11.1   \n",
              "4             3.5          6                              10.6   \n",
              "\n",
              "   CO2 Emissions(g/km)  \n",
              "0                  196  \n",
              "1                  221  \n",
              "2                  136  \n",
              "3                  255  \n",
              "4                  244  "
            ]
          },
          "execution_count": 5,
          "metadata": {},
          "output_type": "execute_result"
        }
      ]
    },
    {
      "cell_type": "code",
      "metadata": {
        "id": "cropUsx6I4D8",
        "outputId": "b387570a-6b86-486b-f1b6-8745ba7f08a8"
      },
      "source": [
        "df2.shape"
      ],
      "execution_count": null,
      "outputs": [
        {
          "data": {
            "text/plain": [
              "(6282, 4)"
            ]
          },
          "execution_count": 22,
          "metadata": {},
          "output_type": "execute_result"
        }
      ]
    },
    {
      "cell_type": "code",
      "metadata": {
        "id": "j6G7vDElI4D9"
      },
      "source": [
        "x=df2.drop(['CO2 Emissions(g/km)'],axis=1)\n",
        "y=df2[\"CO2 Emissions(g/km)\"]"
      ],
      "execution_count": null,
      "outputs": []
    },
    {
      "cell_type": "code",
      "metadata": {
        "id": "ZcgAXbQLI4D-"
      },
      "source": [
        "from sklearn.model_selection import train_test_split, cross_val_score,cross_val_predict\n",
        "X_train,X_test,y_train,y_test=train_test_split(x,y,test_size=0.25,random_state=42)"
      ],
      "execution_count": null,
      "outputs": []
    },
    {
      "cell_type": "markdown",
      "metadata": {
        "id": "jEIZ37T5I4D_"
      },
      "source": [
        "## Random Forest Regression"
      ]
    },
    {
      "cell_type": "code",
      "metadata": {
        "id": "GUfm8yTAI4EA",
        "outputId": "23e8672c-77f6-46b4-8a1a-fa264cf04b91"
      },
      "source": [
        "# Number of trees in random forest\n",
        "n_estimators = [int(x) for x in np.linspace(start = 200, stop = 2000, num = 10)]\n",
        "# Number of features to consider at every split\n",
        "max_features = ['auto', 'sqrt']\n",
        "# Maximum number of levels in tree\n",
        "max_depth = [int(x) for x in np.linspace(10, 110, num = 11)]\n",
        "max_depth.append(None)\n",
        "# Minimum number of samples required to split a node\n",
        "min_samples_split = [2, 5, 10]\n",
        "# Minimum number of samples required at each leaf node\n",
        "min_samples_leaf = [1, 2, 4]\n",
        "# Method of selecting samples for training each tree\n",
        "bootstrap = [True, False]\n",
        "random_grid = {'n_estimators': n_estimators,\n",
        "               'max_features': max_features,\n",
        "               'max_depth': max_depth,\n",
        "               'min_samples_split': min_samples_split,\n",
        "               'min_samples_leaf': min_samples_leaf,\n",
        "               'bootstrap': bootstrap}\n",
        "from sklearn.ensemble import RandomForestRegressor\n",
        "rf=RandomForestRegressor()\n",
        "from sklearn.model_selection import RandomizedSearchCV\n",
        "rf_random = RandomizedSearchCV(estimator = rf, param_distributions = random_grid, n_iter = 100, cv = 3, verbose=2, random_state=42, n_jobs = -1)\n",
        "rf_random.fit(X_train, y_train)\n"
      ],
      "execution_count": null,
      "outputs": [
        {
          "name": "stdout",
          "output_type": "stream",
          "text": [
            "Fitting 3 folds for each of 100 candidates, totalling 300 fits\n"
          ]
        },
        {
          "data": {
            "text/plain": [
              "RandomizedSearchCV(cv=3, estimator=RandomForestRegressor(), n_iter=100,\n",
              "                   n_jobs=-1,\n",
              "                   param_distributions={'bootstrap': [True, False],\n",
              "                                        'max_depth': [10, 20, 30, 40, 50, 60,\n",
              "                                                      70, 80, 90, 100, 110,\n",
              "                                                      None],\n",
              "                                        'max_features': ['auto', 'sqrt'],\n",
              "                                        'min_samples_leaf': [1, 2, 4],\n",
              "                                        'min_samples_split': [2, 5, 10],\n",
              "                                        'n_estimators': [200, 400, 600, 800,\n",
              "                                                         1000, 1200, 1400, 1600,\n",
              "                                                         1800, 2000]},\n",
              "                   random_state=42, verbose=2)"
            ]
          },
          "execution_count": 27,
          "metadata": {},
          "output_type": "execute_result"
        }
      ]
    },
    {
      "cell_type": "code",
      "metadata": {
        "id": "AXPqtvaaI4EH"
      },
      "source": [
        "def evaluate(model, test_features, test_labels):\n",
        "    predictions = model.predict(test_features)\n",
        "    errors = abs(predictions - test_labels)\n",
        "    mape = 100 * np.mean(errors / test_labels)\n",
        "    accuracy = 100 - mape\n",
        "    print('Model Performance')\n",
        "    print('Average Error: {:0.4f} degrees.'.format(np.mean(errors)))\n",
        "    print('Accuracy = {:0.2f}%.'.format(accuracy))\n",
        "    \n",
        "    return accuracy"
      ],
      "execution_count": null,
      "outputs": []
    },
    {
      "cell_type": "code",
      "metadata": {
        "id": "c2eO1wyyI4EJ",
        "outputId": "3b5cb01e-354b-4d22-f43c-30463ef9786b"
      },
      "source": [
        "best_random = rf_random.best_estimator_\n",
        "random_accuracy = evaluate(best_random, X_test, y_test)"
      ],
      "execution_count": null,
      "outputs": [
        {
          "name": "stdout",
          "output_type": "stream",
          "text": [
            "Model Performance\n",
            "Average Error: 4.1751 degrees.\n",
            "Accuracy = 98.27%.\n"
          ]
        }
      ]
    },
    {
      "cell_type": "code",
      "metadata": {
        "id": "x0Nti6rwI4EK",
        "outputId": "adbcc290-fe23-466b-a485-3dddbf8888cd"
      },
      "source": [
        "from sklearn.ensemble import RandomForestRegressor\n",
        "rf1=RandomForestRegressor(random_state=42)\n",
        "rf1.fit(X_train,y_train)\n",
        "print('Training Accuracy: ',rf1.score(X_train,y_train))\n",
        "print('Testing Accuracy: ',rf1.score(X_test,y_test))"
      ],
      "execution_count": null,
      "outputs": [
        {
          "name": "stdout",
          "output_type": "stream",
          "text": [
            "Training Accuracy:  0.9898811794835988\n",
            "Testing Accuracy:  0.9716591590111995\n"
          ]
        }
      ]
    },
    {
      "cell_type": "code",
      "metadata": {
        "id": "MPF60o6BI4EM",
        "outputId": "5872f805-5e69-433d-e6ce-df4b2f42a670"
      },
      "source": [
        "evaluate(rf1,X_test,y_test)"
      ],
      "execution_count": null,
      "outputs": [
        {
          "name": "stdout",
          "output_type": "stream",
          "text": [
            "Model Performance\n",
            "Average Error: 4.1228 degrees.\n",
            "Accuracy = 98.30%.\n"
          ]
        },
        {
          "data": {
            "text/plain": [
              "98.29774293684918"
            ]
          },
          "execution_count": 33,
          "metadata": {},
          "output_type": "execute_result"
        }
      ]
    },
    {
      "cell_type": "code",
      "metadata": {
        "id": "pTlTM7TtI4EN",
        "outputId": "d1f59603-b6df-4a20-c156-cdf7252be0fa"
      },
      "source": [
        "from sklearn.model_selection import GridSearchCV\n",
        "# Create the parameter grid based on the results of random search \n",
        "param_grid = {\n",
        "    'bootstrap': [True],\n",
        "    'max_depth': [80, 90, 100, 110],\n",
        "    'max_features': [2, 3],\n",
        "    'min_samples_leaf': [3, 4, 5],\n",
        "    'min_samples_split': [8, 10, 12],\n",
        "    'n_estimators': [100, 200, 300, 1000]\n",
        "}\n",
        "# Create a based model\n",
        "rf = RandomForestRegressor()\n",
        "# Instantiate the grid search model\n",
        "grid_search = GridSearchCV(estimator = rf, param_grid = param_grid, \n",
        "                          cv = 3, n_jobs = -1, verbose = 2)\n",
        "# Fit the grid search to the data\n",
        "grid_search.fit(X_train, y_train)\n",
        "grid_search.best_params_\n",
        "{'bootstrap': True,\n",
        " 'max_depth': 80,\n",
        " 'max_features': 3,\n",
        " 'min_samples_leaf': 5,\n",
        " 'min_samples_split': 12,\n",
        " 'n_estimators': 100}\n",
        "best_grid = grid_search.best_estimator_\n",
        "grid_accuracy = evaluate(best_grid, X_test, y_test)\n"
      ],
      "execution_count": null,
      "outputs": [
        {
          "name": "stdout",
          "output_type": "stream",
          "text": [
            "Fitting 3 folds for each of 288 candidates, totalling 864 fits\n",
            "Model Performance\n",
            "Average Error: 4.3918 degrees.\n",
            "Accuracy = 98.20%.\n"
          ]
        }
      ]
    },
    {
      "cell_type": "markdown",
      "metadata": {
        "id": "6PqWIvCKI4EP"
      },
      "source": [
        "## we got a test accuracy of 97% using Random Forest Regression\n",
        "\n",
        "\n",
        "\n",
        "\n",
        "\n",
        "\n"
      ]
    },
    {
      "cell_type": "code",
      "metadata": {
        "id": "8KNiiG5PI4EQ",
        "outputId": "8e6526a9-d119-4ee0-bdf6-b713435fa969"
      },
      "source": [
        "from sklearn.model_selection import cross_val_score\n",
        "print('RandomForest Cross Validation: ' , cross_val_score(rf, x, y, cv=5))"
      ],
      "execution_count": null,
      "outputs": [
        {
          "name": "stdout",
          "output_type": "stream",
          "text": [
            "RandomForest Cross Validation:  [0.92298413 0.96596499 0.97862733 0.97908151 0.9785231 ]\n"
          ]
        }
      ]
    },
    {
      "cell_type": "code",
      "metadata": {
        "scrolled": true,
        "id": "TzE359q1I4ER",
        "outputId": "f97fe27b-e8db-4b16-a81a-f66f64a96ab6"
      },
      "source": [
        "from sklearn.model_selection import cross_val_score\n",
        "print('RandomForest Cross Validation: ' , cross_val_score(rf1, x, y, cv=5))"
      ],
      "execution_count": null,
      "outputs": [
        {
          "name": "stdout",
          "output_type": "stream",
          "text": [
            "RandomForest Cross Validation:  [0.92073261 0.96717025 0.97814764 0.97788856 0.97907729]\n"
          ]
        }
      ]
    },
    {
      "cell_type": "code",
      "metadata": {
        "id": "S9568C7LI4EZ",
        "outputId": "d68a5cf9-850d-4880-cfa6-0f3d6b6cdf29"
      },
      "source": [
        "# Authors: Eustache Diemert <eustache@diemert.fr>\n",
        "# License: BSD 3 clause\n",
        "\n",
        "from collections import defaultdict\n",
        "\n",
        "import time\n",
        "import gc\n",
        "import numpy as np\n",
        "import matplotlib.pyplot as plt\n",
        "\n",
        "from sklearn.preprocessing import StandardScaler\n",
        "from sklearn.model_selection import train_test_split\n",
        "from sklearn.datasets import make_regression\n",
        "from sklearn.ensemble import RandomForestRegressor\n",
        "from sklearn.linear_model import Ridge\n",
        "from sklearn.linear_model import SGDRegressor\n",
        "from sklearn.svm import SVR\n",
        "from sklearn.utils import shuffle\n",
        "\n",
        "\n",
        "def _not_in_sphinx():\n",
        "    # Hack to detect whether we are running by the sphinx builder\n",
        "    return '__file__' in globals()\n",
        "\n",
        "\n",
        "def atomic_benchmark_estimator(estimator, X_test, verbose=False):\n",
        "    \"\"\"Measure runtime prediction of each instance.\"\"\"\n",
        "    n_instances = X_test.shape[0]\n",
        "    runtimes = np.zeros(n_instances, dtype=float)\n",
        "    for i in range(n_instances):\n",
        "        instance = X_test[[i], :]\n",
        "        start = time.time()\n",
        "        estimator.predict(instance)\n",
        "        runtimes[i] = time.time() - start\n",
        "    if verbose:\n",
        "        print(\"atomic_benchmark runtimes:\", min(runtimes), np.percentile(\n",
        "            runtimes, 50), max(runtimes))\n",
        "    return runtimes\n",
        "\n",
        "\n",
        "def bulk_benchmark_estimator(estimator, X_test, n_bulk_repeats, verbose):\n",
        "    \"\"\"Measure runtime prediction of the whole input.\"\"\"\n",
        "    n_instances = X_test.shape[0]\n",
        "    runtimes = np.zeros(n_bulk_repeats, dtype=float)\n",
        "    for i in range(n_bulk_repeats):\n",
        "        start = time.time()\n",
        "        estimator.predict(X_test)\n",
        "        runtimes[i] = time.time() - start\n",
        "    runtimes = np.array(list(map(lambda x: x / float(n_instances), runtimes)))\n",
        "    if verbose:\n",
        "        print(\"bulk_benchmark runtimes:\", min(runtimes), np.percentile(\n",
        "            runtimes, 50), max(runtimes))\n",
        "    return runtimes\n",
        "\n",
        "\n",
        "def benchmark_estimator(estimator, X_test, n_bulk_repeats=30, verbose=False):\n",
        "    \"\"\"\n",
        "    Measure runtimes of prediction in both atomic and bulk mode.\n",
        "\n",
        "    Parameters\n",
        "    ----------\n",
        "    estimator : already trained estimator supporting `predict()`\n",
        "    X_test : test input\n",
        "    n_bulk_repeats : how many times to repeat when evaluating bulk mode\n",
        "\n",
        "    Returns\n",
        "    -------\n",
        "    atomic_runtimes, bulk_runtimes : a pair of `np.array` which contain the\n",
        "    runtimes in seconds.\n",
        "\n",
        "    \"\"\"\n",
        "    atomic_runtimes = atomic_benchmark_estimator(estimator, X_test, verbose)\n",
        "    bulk_runtimes = bulk_benchmark_estimator(estimator, X_test, n_bulk_repeats,\n",
        "                                             verbose)\n",
        "    return atomic_runtimes, bulk_runtimes\n",
        "\n",
        "\n",
        "def generate_dataset(n_train, n_test, n_features, noise=0.1, verbose=False):\n",
        "    \"\"\"Generate a regression dataset with the given parameters.\"\"\"\n",
        "    if verbose:\n",
        "        print(\"generating dataset...\")\n",
        "\n",
        "    X, y, coef = make_regression(n_samples=n_train + n_test,\n",
        "                                 n_features=n_features, noise=noise, coef=True)\n",
        "\n",
        "    random_seed = 13\n",
        "    X_train, X_test, y_train, y_test = train_test_split(\n",
        "        X, y, train_size=n_train, test_size=n_test, random_state=random_seed)\n",
        "    X_train, y_train = shuffle(X_train, y_train, random_state=random_seed)\n",
        "\n",
        "    X_scaler = StandardScaler()\n",
        "    X_train = X_scaler.fit_transform(X_train)\n",
        "    X_test = X_scaler.transform(X_test)\n",
        "\n",
        "    y_scaler = StandardScaler()\n",
        "    y_train = y_scaler.fit_transform(y_train[:, None])[:, 0]\n",
        "    y_test = y_scaler.transform(y_test[:, None])[:, 0]\n",
        "\n",
        "    gc.collect()\n",
        "    if verbose:\n",
        "        print(\"ok\")\n",
        "    return X_train, y_train, X_test, y_test\n",
        "\n",
        "\n",
        "def boxplot_runtimes(runtimes, pred_type, configuration):\n",
        "    \"\"\"\n",
        "    Plot a new `Figure` with boxplots of prediction runtimes.\n",
        "\n",
        "    Parameters\n",
        "    ----------\n",
        "    runtimes : list of `np.array` of latencies in micro-seconds\n",
        "    cls_names : list of estimator class names that generated the runtimes\n",
        "    pred_type : 'bulk' or 'atomic'\n",
        "\n",
        "    \"\"\"\n",
        "\n",
        "    fig, ax1 = plt.subplots(figsize=(10, 6))\n",
        "    bp = plt.boxplot(runtimes, )\n",
        "\n",
        "    cls_infos = ['%s\\n(%d %s)' % (estimator_conf['name'],\n",
        "                                  estimator_conf['complexity_computer'](\n",
        "                                      estimator_conf['instance']),\n",
        "                                  estimator_conf['complexity_label']) for\n",
        "                 estimator_conf in configuration['estimators']]\n",
        "    plt.setp(ax1, xticklabels=cls_infos)\n",
        "    plt.setp(bp['boxes'], color='black')\n",
        "    plt.setp(bp['whiskers'], color='black')\n",
        "    plt.setp(bp['fliers'], color='red', marker='+')\n",
        "\n",
        "    ax1.yaxis.grid(True, linestyle='-', which='major', color='lightgrey',\n",
        "                   alpha=0.5)\n",
        "\n",
        "    ax1.set_axisbelow(True)\n",
        "    ax1.set_title('Prediction Time per Instance - %s, %d feats.' % (\n",
        "        pred_type.capitalize(),\n",
        "        configuration['n_features']))\n",
        "    ax1.set_ylabel('Prediction Time (us)')\n",
        "\n",
        "    plt.show()\n",
        "\n",
        "\n",
        "def benchmark(configuration):\n",
        "    \"\"\"Run the whole benchmark.\"\"\"\n",
        "    X_train, y_train, X_test, y_test = generate_dataset(\n",
        "        configuration['n_train'], configuration['n_test'],\n",
        "        configuration['n_features'])\n",
        "\n",
        "    stats = {}\n",
        "    for estimator_conf in configuration['estimators']:\n",
        "        print(\"Benchmarking\", estimator_conf['instance'])\n",
        "        estimator_conf['instance'].fit(X_train, y_train)\n",
        "        gc.collect()\n",
        "        a, b = benchmark_estimator(estimator_conf['instance'], X_test)\n",
        "        stats[estimator_conf['name']] = {'atomic': a, 'bulk': b}\n",
        "\n",
        "    cls_names = [estimator_conf['name'] for estimator_conf in configuration[\n",
        "        'estimators']]\n",
        "    runtimes = [1e6 * stats[clf_name]['atomic'] for clf_name in cls_names]\n",
        "    boxplot_runtimes(runtimes, 'atomic', configuration)\n",
        "    runtimes = [1e6 * stats[clf_name]['bulk'] for clf_name in cls_names]\n",
        "    boxplot_runtimes(runtimes, 'bulk (%d)' % configuration['n_test'],\n",
        "                     configuration)\n",
        "\n",
        "\n",
        "def n_feature_influence(estimators, n_train, n_test, n_features, percentile):\n",
        "    \"\"\"\n",
        "    Estimate influence of the number of features on prediction time.\n",
        "\n",
        "    Parameters\n",
        "    ----------\n",
        "\n",
        "    estimators : dict of (name (str), estimator) to benchmark\n",
        "    n_train : nber of training instances (int)\n",
        "    n_test : nber of testing instances (int)\n",
        "    n_features : list of feature-space dimensionality to test (int)\n",
        "    percentile : percentile at which to measure the speed (int [0-100])\n",
        "\n",
        "    Returns:\n",
        "    --------\n",
        "\n",
        "    percentiles : dict(estimator_name,\n",
        "                       dict(n_features, percentile_perf_in_us))\n",
        "\n",
        "    \"\"\"\n",
        "    percentiles = defaultdict(defaultdict)\n",
        "    for n in n_features:\n",
        "        print(\"benchmarking with %d features\" % n)\n",
        "        X_train, y_train, X_test, y_test = generate_dataset(n_train, n_test, n)\n",
        "        for cls_name, estimator in estimators.items():\n",
        "            estimator.fit(X_train, y_train)\n",
        "            gc.collect()\n",
        "            runtimes = bulk_benchmark_estimator(estimator, X_test, 30, False)\n",
        "            percentiles[cls_name][n] = 1e6 * np.percentile(runtimes,\n",
        "                                                           percentile)\n",
        "    return percentiles\n",
        "\n",
        "\n",
        "def plot_n_features_influence(percentiles, percentile):\n",
        "    fig, ax1 = plt.subplots(figsize=(10, 6))\n",
        "    colors = ['r', 'g', 'b']\n",
        "    for i, cls_name in enumerate(percentiles.keys()):\n",
        "        x = np.array(sorted([n for n in percentiles[cls_name].keys()]))\n",
        "        y = np.array([percentiles[cls_name][n] for n in x])\n",
        "        plt.plot(x, y, color=colors[i], )\n",
        "    ax1.yaxis.grid(True, linestyle='-', which='major', color='lightgrey',\n",
        "                   alpha=0.5)\n",
        "    ax1.set_axisbelow(True)\n",
        "    ax1.set_title('Evolution of Prediction Time with #Features')\n",
        "    ax1.set_xlabel('#Features')\n",
        "    ax1.set_ylabel('Prediction Time at %d%%-ile (us)' % percentile)\n",
        "    plt.show()\n",
        "\n",
        "\n",
        "def benchmark_throughputs(configuration, duration_secs=0.1):\n",
        "    \"\"\"benchmark throughput for different estimators.\"\"\"\n",
        "    X_train, y_train, X_test, y_test = generate_dataset(\n",
        "        configuration['n_train'], configuration['n_test'],\n",
        "        configuration['n_features'])\n",
        "    throughputs = dict()\n",
        "    for estimator_config in configuration['estimators']:\n",
        "        estimator_config['instance'].fit(X_train, y_train)\n",
        "        start_time = time.time()\n",
        "        n_predictions = 0\n",
        "        while (time.time() - start_time) < duration_secs:\n",
        "            estimator_config['instance'].predict(X_test[[0]])\n",
        "            n_predictions += 1\n",
        "        throughputs[estimator_config['name']] = n_predictions / duration_secs\n",
        "    return throughputs\n",
        "\n",
        "\n",
        "def plot_benchmark_throughput(throughputs, configuration):\n",
        "    fig, ax = plt.subplots(figsize=(10, 6))\n",
        "    colors = ['r', 'g', 'b']\n",
        "    cls_infos = ['%s\\n(%d %s)' % (estimator_conf['name'],\n",
        "                                  estimator_conf['complexity_computer'](\n",
        "                                      estimator_conf['instance']),\n",
        "                                  estimator_conf['complexity_label']) for\n",
        "                 estimator_conf in configuration['estimators']]\n",
        "    cls_values = [throughputs[estimator_conf['name']] for estimator_conf in\n",
        "                  configuration['estimators']]\n",
        "    plt.bar(range(len(throughputs)), cls_values, width=0.5, color=colors)\n",
        "    ax.set_xticks(np.linspace(0.25, len(throughputs) - 0.75, len(throughputs)))\n",
        "    ax.set_xticklabels(cls_infos, fontsize=10)\n",
        "    ymax = max(cls_values) * 1.2\n",
        "    ax.set_ylim((0, ymax))\n",
        "    ax.set_ylabel('Throughput (predictions/sec)')\n",
        "    ax.set_title('Prediction Throughput for different estimators (%d '\n",
        "                 'features)' % configuration['n_features'])\n",
        "    plt.show()\n",
        "\n",
        "\n",
        "# #############################################################################\n",
        "# Main code\n",
        "\n",
        "start_time = time.time()\n",
        "\n",
        "# #############################################################################\n",
        "# Benchmark bulk/atomic prediction speed for various regressors\n",
        "configuration = {\n",
        "    'n_train': int(1e3),\n",
        "    'n_test': int(1e2),\n",
        "    'n_features': int(1e2),\n",
        "    'estimators': [\n",
        "#         {'name': 'Linear Model',\n",
        "#          'instance': SGDRegressor(penalty='elasticnet', alpha=0.01,\n",
        "#                                   l1_ratio=0.25, tol=1e-4),\n",
        "#          'complexity_label': 'non-zero coefficients',\n",
        "#          'complexity_computer': lambda clf: np.count_nonzero(clf.coef_)},\n",
        "        {'name': 'RandomForest',\n",
        "         'instance': RandomForestRegressor(random_state =42),\n",
        "         'complexity_label': 'estimators',\n",
        "         'complexity_computer': lambda clf: clf.n_estimators},\n",
        "#         {'name': 'SVR',\n",
        "#          'instance': SVR(kernel='rbf'),\n",
        "#          'complexity_label': 'support vectors',\n",
        "#          'complexity_computer': lambda clf: len(clf.support_vectors_)},\n",
        "    ]\n",
        "}\n",
        "benchmark(configuration)\n",
        "\n",
        "# benchmark n_features influence on prediction speed\n",
        "percentile = 90\n",
        "percentiles = n_feature_influence({'ridge': Ridge()},\n",
        "                                  configuration['n_train'],\n",
        "                                  configuration['n_test'],\n",
        "                                  [100, 250, 500], percentile)\n",
        "plot_n_features_influence(percentiles, percentile)\n",
        "\n",
        "# benchmark throughput\n",
        "throughputs = benchmark_throughputs(configuration)\n",
        "plot_benchmark_throughput(throughputs, configuration)\n",
        "\n",
        "stop_time = time.time()\n",
        "print(\"example run in %.2fs\" % (stop_time - start_time))"
      ],
      "execution_count": null,
      "outputs": [
        {
          "name": "stdout",
          "output_type": "stream",
          "text": [
            "Benchmarking RandomForestRegressor(random_state=42)\n"
          ]
        },
        {
          "data": {
            "image/png": "[encoded data removed]",
            "text/plain": [
              "<Figure size 720x432 with 1 Axes>"
            ]
          },
          "metadata": {
            "needs_background": "light"
          },
          "output_type": "display_data"
        },
        {
          "data": {
            "image/png": "[encoded data removed]",
            "text/plain": [
              "<Figure size 720x432 with 1 Axes>"
            ]
          },
          "metadata": {
            "needs_background": "light"
          },
          "output_type": "display_data"
        },
        {
          "name": "stdout",
          "output_type": "stream",
          "text": [
            "benchmarking with 100 features\n",
            "benchmarking with 250 features\n",
            "benchmarking with 500 features\n"
          ]
        },
        {
          "data": {
            "image/png": "[encoded data removed]",
            "text/plain": [
              "<Figure size 720x432 with 1 Axes>"
            ]
          },
          "metadata": {
            "needs_background": "light"
          },
          "output_type": "display_data"
        },
        {
          "data": {
            "image/png": "[encoded data removed]",
            "text/plain": [
              "<Figure size 720x432 with 1 Axes>"
            ]
          },
          "metadata": {
            "needs_background": "light"
          },
          "output_type": "display_data"
        },
        {
          "name": "stdout",
          "output_type": "stream",
          "text": [
            "example run in 134.71s\n"
          ]
        }
      ]
    },
    {
      "cell_type": "code",
      "metadata": {
        "id": "g1gqy-4eI4Ed",
        "outputId": "3c7e9290-7c0d-40cc-db39-e53856b44046"
      },
      "source": [
        "rf1.get_params()"
      ],
      "execution_count": null,
      "outputs": [
        {
          "data": {
            "text/plain": [
              "{'bootstrap': True,\n",
              " 'ccp_alpha': 0.0,\n",
              " 'criterion': 'mse',\n",
              " 'max_depth': None,\n",
              " 'max_features': 'auto',\n",
              " 'max_leaf_nodes': None,\n",
              " 'max_samples': None,\n",
              " 'min_impurity_decrease': 0.0,\n",
              " 'min_impurity_split': None,\n",
              " 'min_samples_leaf': 1,\n",
              " 'min_samples_split': 2,\n",
              " 'min_weight_fraction_leaf': 0.0,\n",
              " 'n_estimators': 100,\n",
              " 'n_jobs': None,\n",
              " 'oob_score': False,\n",
              " 'random_state': 42,\n",
              " 'verbose': 0,\n",
              " 'warm_start': False}"
            ]
          },
          "execution_count": 18,
          "metadata": {},
          "output_type": "execute_result"
        }
      ]
    },
    {
      "cell_type": "code",
      "metadata": {
        "id": "DZKmtG6TI4Ef",
        "outputId": "4bb593e3-fe92-4cdb-a648-864571f54b16"
      },
      "source": [
        "from sklearn.model_selection import cross_val_score\n",
        "print('RandomForest Cross Validation: ' , cross_val_score(best_random, x, y, cv=5))"
      ],
      "execution_count": null,
      "outputs": [
        {
          "name": "stdout",
          "output_type": "stream",
          "text": [
            "RandomForest Cross Validation:  [0.94407378 0.96906886 0.98147579 0.97904053 0.97851755]\n"
          ]
        }
      ]
    },
    {
      "cell_type": "code",
      "metadata": {
        "id": "ls6U7DcJI4Eg"
      },
      "source": [
        "from sklearn.model_selection import cross_val_score\n",
        "print('RandomForest Cross Validation: ' , cross_val_score(best_grid, x, y, cv=5))"
      ],
      "execution_count": null,
      "outputs": []
    },
    {
      "cell_type": "markdown",
      "metadata": {
        "id": "8AXV1_CWI4Ei"
      },
      "source": [
        "## Saving the model"
      ]
    },
    {
      "cell_type": "code",
      "metadata": {
        "id": "kNZBmPwwI4Eo"
      },
      "source": [
        "import pickle\n",
        "\n",
        "#name of the model\n",
        "filename='vehicle_carbon_emission_model.sav'\n",
        "pickle.dump(rf1,open(filename,'wb'))"
      ],
      "execution_count": null,
      "outputs": []
    },
    {
      "cell_type": "markdown",
      "metadata": {
        "id": "zahmOJ5hI4Eq"
      },
      "source": [
        "## Load the model from disk and make predictions"
      ]
    },
    {
      "cell_type": "code",
      "metadata": {
        "id": "XGALSS35I4Er",
        "outputId": "5189c187-630a-4bdb-d771-e2f05b26bcfb"
      },
      "source": [
        "filename='vehicle_carbon_emission_model.sav'\n",
        "loaded_model=pickle.load(open(filename,'rb'))\n",
        "# lets see how the data looks like\n",
        "test_data=np.expand_dims(X_test.values[0],axis=0)\n",
        "test_data"
      ],
      "execution_count": null,
      "outputs": [
        {
          "data": {
            "text/plain": [
              "array([[ 3.,  6., 12.]])"
            ]
          },
          "execution_count": 13,
          "metadata": {},
          "output_type": "execute_result"
        }
      ]
    },
    {
      "cell_type": "code",
      "metadata": {
        "id": "YPXRxjuZI4Es",
        "outputId": "4c35af70-c684-46cd-ca76-4bdfe418730a"
      },
      "source": [
        "import time\n",
        "start_time =time.time()\n",
        "prediction=loaded_model.predict(test_data)\n",
        "end_time = time.time()\n",
        "execution_time = end_time - start_time\n",
        "print(execution_time)"
      ],
      "execution_count": null,
      "outputs": [
        {
          "name": "stdout",
          "output_type": "stream",
          "text": [
            "0.08399248123168945\n"
          ]
        }
      ]
    },
    {
      "cell_type": "code",
      "metadata": {
        "id": "kCp08KY6I4Et",
        "outputId": "5a8b85b6-a439-449f-9bb1-b8898175e7a2"
      },
      "source": [
        "#lets see our predictions\n",
        "prediction"
      ],
      "execution_count": null,
      "outputs": [
        {
          "data": {
            "text/plain": [
              "array([283.73440476])"
            ]
          },
          "execution_count": 40,
          "metadata": {},
          "output_type": "execute_result"
        }
      ]
    },
    {
      "cell_type": "markdown",
      "metadata": {
        "id": "IIMQeJNqI4Eu"
      },
      "source": [
        "## the model predicted that this vehicle would give an emission of 283.73g/km"
      ]
    },
    {
      "cell_type": "code",
      "metadata": {
        "id": "AZQao3t0I4Ev"
      },
      "source": [
        ""
      ],
      "execution_count": null,
      "outputs": []
    }
  ]
}